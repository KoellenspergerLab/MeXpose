{
 "cells": [
  {
   "cell_type": "code",
   "execution_count": null,
   "id": "d5707a7a-fdd6-48f8-8934-b08e7a12ff3a",
   "metadata": {},
   "outputs": [],
   "source": [
    "import codecs\n",
    "import os\n",
    "\n",
    "# Optional: Disable warnings\n",
    "import warnings\n",
    "from io import StringIO\n",
    "\n",
    "warnings.filterwarnings(\"ignore\")\n",
    "\n",
    "import ipywidgets as widgets\n",
    "import matplotlib as mpl\n",
    "import matplotlib.pyplot as plt\n",
    "import numpy as np\n",
    "import pandas as pd\n",
    "import seaborn as sns\n",
    "from IPython.display import display\n",
    "from ipywidgets import FileUpload, interact\n",
    "from sklearn.cluster import KMeans\n",
    "from sklearn.preprocessing import MinMaxScaler, RobustScaler\n",
    "\n",
    "%matplotlib widget"
   ]
  },
  {
   "cell_type": "markdown",
   "id": "15619399-5d48-495a-a43f-04658e7b1e25",
   "metadata": {},
   "source": [
    "## Load your pixel-based data"
   ]
  },
  {
   "cell_type": "code",
   "execution_count": null,
   "id": "fb66b515-a810-44b9-96be-794bf7255e13",
   "metadata": {},
   "outputs": [],
   "source": [
    "# Define a custom CSS style for the HBox\n",
    "style = {\n",
    "    \"description_width\": \"initial\",\n",
    "    \"flex_flow\": \"row wrap\",\n",
    "    \"justify_content\": \"space-between\",\n",
    "}\n",
    "\n",
    "# Enter the path of your present working directory\n",
    "image_path = widgets.Text(\n",
    "    value=\"\",\n",
    "    placeholder=\"Enter your working directory path\",\n",
    "    description=\"Path:\",\n",
    "    style={\"description_width\": \"initial\"},\n",
    ")\n",
    "\n",
    "\n",
    "def update_csv_files(change):\n",
    "    if image_path.value:\n",
    "        csv_files = [f for f in os.listdir(image_path.value) if f.endswith(\".csv\")]\n",
    "        csv_select.options = csv_files\n",
    "    else:\n",
    "        csv_select.options = []\n",
    "\n",
    "\n",
    "image_path.observe(update_csv_files, names=\"value\")\n",
    "\n",
    "# Select which .csv file contains your single-cell data\n",
    "csv_select = widgets.RadioButtons(options=[], description=\"Image data\", disabled=False)\n",
    "\n",
    "widgets_box = widgets.HBox(\n",
    "    [image_path, csv_select],\n",
    ")\n",
    "\n",
    "display(widgets_box)"
   ]
  },
  {
   "cell_type": "code",
   "execution_count": null,
   "id": "0b5da186-b9c1-49e7-b4ff-4b4550e535b0",
   "metadata": {},
   "outputs": [],
   "source": [
    "# Reads your single_cell.csv data as a pandas dataframe\n",
    "PATH = image_path.value\n",
    "PX_DATA = csv_select.value\n",
    "\n",
    "file_path = os.path.join(PATH, PX_DATA)\n",
    "image_df = pd.read_csv(file_path, sep=\",\")\n",
    "image_df = image_df.dropna(axis=1)"
   ]
  },
  {
   "cell_type": "markdown",
   "id": "74e1f66b-bc0c-4db1-b96c-4cd87d83587d",
   "metadata": {},
   "source": [
    "## Kmeans clustering of selected channel(s)"
   ]
  },
  {
   "cell_type": "markdown",
   "id": "042fe301-ba29-4f3a-ae3a-2f092b368f00",
   "metadata": {},
   "source": [
    "### Select a scaling method\n",
    "Standardize data values to bring them onto a comparable scale. This facilitates accurate clustering results. \\\n",
    "Two methods are available: Robust scaling and MinMax scaling \\\n",
    "For more information on data scaling see [here](https://scikit-learn.org/stable/auto_examples/preprocessing/plot_all_scaling.html) and [here](https://scikit-learn.org/stable/modules/preprocessing.html)"
   ]
  },
  {
   "cell_type": "code",
   "execution_count": null,
   "id": "7de88f8b-77c5-4c71-b16c-68a88ad6dceb",
   "metadata": {},
   "outputs": [],
   "source": [
    "number_clusters = widgets.Text(\n",
    "    value=\"\",\n",
    "    placeholder=\"Desired number of clusters\",\n",
    "    description=\"Number of clusters:\",\n",
    "    style={\"description_width\": \"initial\"},\n",
    ")\n",
    "\n",
    "channels_cluster = widgets.SelectMultiple(\n",
    "    options=image_df.columns,\n",
    "    description=\"Channels for clustering\",\n",
    "    disabled=False,\n",
    "    rows=10,\n",
    "    style={\"description_width\": \"initial\"},\n",
    "    # layout=widgets.Layout(width=\"auto\", height=\"auto\"),\n",
    ")\n",
    "\n",
    "scaler_select = widgets.RadioButtons(\n",
    "    options=[\"RobustScaler\", \"MinMaxScaler\"],\n",
    "    description=\"Scaling method\",\n",
    "    style={\"description_width\": \"initial\"},\n",
    ")\n",
    "\n",
    "widgets.HBox([number_clusters, channels_cluster, scaler_select])"
   ]
  },
  {
   "cell_type": "code",
   "execution_count": null,
   "id": "1361190d-2d7d-4fb6-9014-db0fb0a24f91",
   "metadata": {},
   "outputs": [],
   "source": [
    "cluster_df = image_df[list(channels_cluster.value)]\n",
    "\n",
    "if len(list(channels_cluster.value)) == 1:\n",
    "    cluster_df = cluster_df.values.reshape(-1, 1)\n",
    "else:\n",
    "    None\n",
    "\n",
    "# Scaling the data\n",
    "if scaler_select.value == \"RobustScaler\":\n",
    "    scaler = RobustScaler()\n",
    "    cluster_std = scaler.fit_transform(cluster_df)\n",
    "else:\n",
    "    scaler = MinMaxScaler()\n",
    "    cluster_std = scaler.fit_transform(cluster_df)\n",
    "\n",
    "# Run KMeans\n",
    "kmeans = KMeans(n_clusters=int(number_clusters.value), random_state=0).fit(cluster_std)\n",
    "\n",
    "# Add the labels to the dataframe\n",
    "image_df[\"label\"] = kmeans.labels_\n",
    "\n",
    "print(\"Clustering has been completed!\")"
   ]
  },
  {
   "cell_type": "code",
   "execution_count": null,
   "id": "528fdbbf-01c1-4346-98e0-11f1fe4f73c6",
   "metadata": {},
   "outputs": [],
   "source": [
    "img_width = widgets.Text(\n",
    "    value=\"\",\n",
    "    placeholder=\"Enter your image width in pixels\",\n",
    "    description=\"Width:\",\n",
    "    style={\"description_width\": \"initial\"},\n",
    ")\n",
    "\n",
    "img_height = widgets.Text(\n",
    "    value=\"\",\n",
    "    placeholder=\"Enter your image height in pixels\",\n",
    "    description=\"Height:\",\n",
    "    style={\"description_width\": \"initial\"},\n",
    ")\n",
    "\n",
    "widgets.HBox([img_width, img_height])"
   ]
  },
  {
   "cell_type": "markdown",
   "id": "272120bf-94bf-4e36-8418-cc3d59510475",
   "metadata": {},
   "source": [
    "#### Plot and save clusters"
   ]
  },
  {
   "cell_type": "code",
   "execution_count": null,
   "id": "c1ef26ef-44fd-42e4-8c10-04c1697d66b2",
   "metadata": {},
   "outputs": [],
   "source": [
    "# Get the labels from the dataframe\n",
    "labels = image_df[\"label\"].values.astype(int)\n",
    "\n",
    "# Reshape the labels into the original image shape\n",
    "image = labels.reshape((int(img_height.value), int(img_width.value)), order=\"C\")\n",
    "\n",
    "# Display the image\n",
    "plt.figure(figsize=(10, 10))\n",
    "plt.imshow(image)\n",
    "plt.axis(\"off\")\n",
    "plt.tight_layout()\n",
    "mpl.rcParams[\"savefig.pad_inches\"] = 0\n",
    "plt.show()"
   ]
  },
  {
   "cell_type": "markdown",
   "id": "971f88ab-d6a5-4ad0-b553-4d37ef609e16",
   "metadata": {},
   "source": [
    "#### Uncomment the cell below to save the figure"
   ]
  },
  {
   "cell_type": "code",
   "execution_count": null,
   "id": "750e0c41-72e4-43fd-877f-b0577011c57d",
   "metadata": {},
   "outputs": [],
   "source": [
    "# plt.savefig(fname=os.path.join(PATH, \"kmeans_clusters.png\"), dpi=600)"
   ]
  },
  {
   "cell_type": "markdown",
   "id": "e58d21fc-9bdb-4262-8d6e-25b24771790b",
   "metadata": {},
   "source": [
    "#### Print and save simple statistics"
   ]
  },
  {
   "cell_type": "code",
   "execution_count": null,
   "id": "a3eb1c50-34fe-4462-bd5f-fe781aa280cf",
   "metadata": {},
   "outputs": [],
   "source": [
    "def generate_info(cluster_label, channel, df):\n",
    "    mean_val = df.loc[df[\"label\"] == cluster_label, channel].mean()\n",
    "    min_val = df.loc[df[\"label\"] == cluster_label, channel].min()\n",
    "    max_val = df.loc[df[\"label\"] == cluster_label, channel].max()\n",
    "\n",
    "    if cluster_label == 0:\n",
    "        cluster_name = \"background (cluster 0)\"\n",
    "    else:\n",
    "        cluster_name = f\"cluster_{cluster_label}\"\n",
    "\n",
    "    info = (\n",
    "        f\"The average single pixel value in counts for {channel} in the {cluster_name} is: {mean_val}\\n\"\n",
    "        f\"The minimum single pixel value in counts for {channel} in the {cluster_name} is: {min_val}\\n\"\n",
    "        f\"The maximum single pixel value in counts for {channel} in the {cluster_name} is: {max_val}\"\n",
    "    )\n",
    "    return info\n",
    "\n",
    "\n",
    "info_strings = []\n",
    "\n",
    "for i in range(0, labels.max() + 1):\n",
    "    for j in list(channels_cluster.value):\n",
    "        info = generate_info(i, j, image_df)\n",
    "        print(info)\n",
    "        info_strings.append(info)\n",
    "    print()\n",
    "    info_strings.append(\"\")"
   ]
  },
  {
   "cell_type": "markdown",
   "id": "51c6e1df-8adb-47fc-a8b0-aea34914f05c",
   "metadata": {},
   "source": [
    "#### Uncomment the section below to save the information to a .txt file"
   ]
  },
  {
   "cell_type": "code",
   "execution_count": null,
   "id": "9b0f385a-a101-4cfc-80c8-4ca4c7abb4a2",
   "metadata": {},
   "outputs": [],
   "source": [
    "# filename = os.path.join(PATH, \"kmeans_cluster_statistics.txt\")\n",
    "# with open(filename, \"w\") as file:\n",
    "#     for line in info_strings:\n",
    "#         file.write(line + \"\\n\")"
   ]
  },
  {
   "cell_type": "markdown",
   "id": "aed84d8e-a5b6-47ee-b96d-31a7aca2f7fe",
   "metadata": {},
   "source": [
    "## Correlation heatmap\n",
    "Select channels for which you'd like to calculate spearman correlation coefficients and draw a correlation map"
   ]
  },
  {
   "cell_type": "code",
   "execution_count": null,
   "id": "d90d5eba-2691-4cf2-9b32-5c372b6834bf",
   "metadata": {},
   "outputs": [],
   "source": [
    "# Select channel names you wish to calculate a correlation coefficient for\n",
    "correlation_channels = widgets.SelectMultiple(\n",
    "    options=image_df.columns,\n",
    "    rows=10,\n",
    "    description=\"Channels\",\n",
    "    style={\"description_width\": \"initial\"},\n",
    ")\n",
    "\n",
    "correlation_select = widgets.RadioButtons(\n",
    "    options=[\"spearman\", \"pearson\"],\n",
    "    description=\"Correlation method\",\n",
    "    style={\"description_width\": \"initial\"},\n",
    ")\n",
    "\n",
    "widgets.HBox([correlation_channels, correlation_select])"
   ]
  },
  {
   "cell_type": "code",
   "execution_count": null,
   "id": "2fb783a8-42e7-4178-8467-36b53db50188",
   "metadata": {},
   "outputs": [],
   "source": [
    "# Apply the square root transformation\n",
    "transformed_data = image_df[list(correlation_channels.value)].applymap(np.sqrt)\n",
    "\n",
    "# Scale the transformed data\n",
    "scaled_data = pd.DataFrame(\n",
    "    scaler.fit_transform(transformed_data), columns=list(correlation_channels.value)\n",
    ")\n",
    "\n",
    "\n",
    "def plot_correlation_heatmap(df, channels, method):\n",
    "    corr_matrix = df[channels].corr(method=method)\n",
    "    sns.set(font_scale=0.5)\n",
    "    fig, ax = plt.subplots()\n",
    "\n",
    "    sns.heatmap(\n",
    "        corr_matrix,\n",
    "        vmin=-1,\n",
    "        vmax=1,\n",
    "        center=0,\n",
    "        cmap=sns.diverging_palette(20, 220, n=200),\n",
    "        square=True,\n",
    "        annot=True,\n",
    "        ax=ax,\n",
    "    )\n",
    "\n",
    "    ax.set_xticklabels(ax.get_xticklabels(), rotation=45, horizontalalignment=\"right\")\n",
    "\n",
    "    plt.tight_layout()\n",
    "    plt.show()\n",
    "\n",
    "\n",
    "plot_correlation_heatmap(\n",
    "    scaled_data, list(correlation_channels.value), correlation_select.value\n",
    ")"
   ]
  },
  {
   "cell_type": "markdown",
   "id": "d63347ac-e3ae-479d-b0bb-b641a0ad45f6",
   "metadata": {},
   "source": [
    "# Uncomment the cell below to save the figure"
   ]
  },
  {
   "cell_type": "code",
   "execution_count": null,
   "id": "e2600742-282d-4ab4-8d6a-4035d0b1e9c1",
   "metadata": {},
   "outputs": [],
   "source": [
    "# plt.savefig(fname=os.path.join(PATH, correlation_select.value + \"_correlation_heatmap.png\"), dpi=600)"
   ]
  }
 ],
 "metadata": {
  "kernelspec": {
   "display_name": "Python 3 (ipykernel)",
   "language": "python",
   "name": "python3"
  },
  "language_info": {
   "codemirror_mode": {
    "name": "ipython",
    "version": 3
   },
   "file_extension": ".py",
   "mimetype": "text/x-python",
   "name": "python",
   "nbconvert_exporter": "python",
   "pygments_lexer": "ipython3",
   "version": "3.10.11"
  }
 },
 "nbformat": 4,
 "nbformat_minor": 5
}

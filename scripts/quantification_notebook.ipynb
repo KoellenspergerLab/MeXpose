{
 "cells": [
  {
   "cell_type": "markdown",
   "id": "464a51a3-512f-44d5-9728-e25d28d00ec9",
   "metadata": {},
   "source": [
    "This notebook expects a 'standards' CSV file which contains two (in future three) columns in the following order:  \n",
    "\n",
    "1. Names of the standards (e.g. isotope names) - string\n",
    "2. The factor by which to divide for quantification (e.g. slope of calibration curve) - float\n",
    "3. (Not yet supported) The y-axis section of a calibration curve - float"
   ]
  },
  {
   "cell_type": "code",
   "execution_count": null,
   "id": "6e87e86d-a479-4ca5-ba40-f33b907d1133",
   "metadata": {},
   "outputs": [],
   "source": [
    "import io\n",
    "import os\n",
    "\n",
    "import matplotlib.pyplot as plt\n",
    "import numpy as np\n",
    "import pandas as pd\n",
    "import seaborn as sns\n",
    "from ipywidgets import SelectMultiple, TwoByTwoLayout, interact, widgets"
   ]
  },
  {
   "cell_type": "markdown",
   "id": "e0c92246-0c60-4f4b-a2c5-ba46755e35f7",
   "metadata": {},
   "source": [
    "### Enter the working direcotry paths & select your single-cell data and standards files"
   ]
  },
  {
   "cell_type": "code",
   "execution_count": null,
   "id": "af5245f9-8949-4105-a109-6db9966796ec",
   "metadata": {},
   "outputs": [],
   "source": [
    "singlecell_files = widgets.FileUpload(\n",
    "    accept=\".csv\",\n",
    "    multiple=True,\n",
    "    description=\"Upload data csv's\",\n",
    "    layout={\"width\": \"auto\"},\n",
    ")\n",
    "\n",
    "standard_file = widgets.FileUpload(\n",
    "    accept=\".csv\",\n",
    "    multiple=True,\n",
    "    description=\"Upload standards csv\",\n",
    "    layout={\"width\": \"auto\"},\n",
    ")\n",
    "\n",
    "save_path_widget = widgets.Text(\n",
    "    value=\"\",\n",
    "    placeholder=\"Enter working directory/desired save path\",\n",
    "    description=\"Path:\",\n",
    "    disabled=False,\n",
    ")\n",
    "display(save_path_widget)\n",
    "\n",
    "display(singlecell_files, standard_file)"
   ]
  },
  {
   "cell_type": "code",
   "execution_count": null,
   "id": "db848106-3d0e-45cf-b3d2-f33000a09892",
   "metadata": {},
   "outputs": [],
   "source": [
    "# Reading and formatting the single-cell and standard files\n",
    "singlecell_dfs = [\n",
    "    pd.read_csv(io.BytesIO(file.content)) for file in singlecell_files.value\n",
    "]\n",
    "\n",
    "# Assuming you upload only one standard file\n",
    "uploaded_standard_file = standard_file.value[0]\n",
    "standards_df = pd.read_csv(\n",
    "    io.BytesIO(uploaded_standard_file.content),\n",
    "    dtype={\"a\": str, \"b\": np.float64, \"c\": np.float64},\n",
    "    delimiter=\";\",\n",
    "    header=None,\n",
    ")\n",
    "\n",
    "standards_df = standards_df.transpose()\n",
    "standards_df.columns = standards_df.iloc[0]\n",
    "standards_df = standards_df.drop(0)\n",
    "standards_df = standards_df.reset_index(drop=True)\n",
    "standards_df"
   ]
  },
  {
   "cell_type": "markdown",
   "id": "d2e7c4d7-4f99-4e9d-8c95-29b2e5683329",
   "metadata": {},
   "source": [
    "### Select the desired channels and the corresponding standard isotopes\n",
    "Make sure you select channel and corresponding isotopes in the same order otherwise you will obtain false results"
   ]
  },
  {
   "cell_type": "code",
   "execution_count": null,
   "id": "10c7ef1a-8bda-4b89-837e-93dadb47b951",
   "metadata": {},
   "outputs": [],
   "source": [
    "# Select the desired channel descriptions + the corresponding standard isotopes\n",
    "quant_channels = widgets.SelectMultiple(\n",
    "    options=singlecell_dfs[0].columns,\n",
    "    description=\"Channels for quantification\",\n",
    "    disabled=False,\n",
    "    rows=10,\n",
    "    style={\"description_width\": \"initial\"},\n",
    "    layout=widgets.Layout(width=\"auto\", height=\"auto\"),\n",
    ")\n",
    "\n",
    "std_isotopes = widgets.SelectMultiple(\n",
    "    options=standards_df.columns,\n",
    "    description=\"Standard isotopes for quantification\",\n",
    "    disabled=False,\n",
    "    rows=10,\n",
    "    style={\"description_width\": \"initial\"},\n",
    "    layout=widgets.Layout(width=\"auto\", height=\"auto\"),\n",
    ")\n",
    "\n",
    "# Initialize lists to hold selected options\n",
    "quant_channels_selected = []\n",
    "std_isotopes_selected = []\n",
    "\n",
    "\n",
    "def on_quant_channels_change(change):\n",
    "    if change[\"type\"] == \"change\" and change[\"name\"] == \"value\":\n",
    "        # Add any newly selected options to the end of the list\n",
    "        for elem in change[\"new\"]:\n",
    "            if elem not in quant_channels_selected:\n",
    "                quant_channels_selected.append(elem)\n",
    "        # Remove any options that were deselected\n",
    "        for elem in quant_channels_selected:\n",
    "            if elem not in change[\"new\"]:\n",
    "                quant_channels_selected.remove(elem)\n",
    "\n",
    "\n",
    "def on_std_isotopes_change(change):\n",
    "    if change[\"type\"] == \"change\" and change[\"name\"] == \"value\":\n",
    "        # Add any newly selected options to the end of the list\n",
    "        for elem in change[\"new\"]:\n",
    "            if elem not in std_isotopes_selected:\n",
    "                std_isotopes_selected.append(elem)\n",
    "        # Remove any options that were deselected\n",
    "        for elem in std_isotopes_selected:\n",
    "            if elem not in change[\"new\"]:\n",
    "                std_isotopes_selected.remove(elem)\n",
    "\n",
    "\n",
    "# Attach change listeners to the widgets\n",
    "quant_channels.observe(on_quant_channels_change)\n",
    "std_isotopes.observe(on_std_isotopes_change)\n",
    "\n",
    "TwoByTwoLayout(top_left=quant_channels, top_right=std_isotopes)"
   ]
  },
  {
   "cell_type": "markdown",
   "id": "f6e36711-33da-4699-bee5-143e31e57202",
   "metadata": {},
   "source": [
    "### Plot quantified channels of all datasets"
   ]
  },
  {
   "cell_type": "code",
   "execution_count": null,
   "id": "4b2efc1a-2c47-48c1-abb9-7ec2207b91c5",
   "metadata": {},
   "outputs": [],
   "source": [
    "# Quantifiy the selected isotopes\n",
    "quant_df = singlecell_dfs.copy()\n",
    "\n",
    "for df in quant_df:\n",
    "    for i, channel in enumerate(quant_channels_selected):\n",
    "        df[channel] = (\n",
    "            df[channel] / standards_df.iloc[0][std_isotopes_selected[i]]\n",
    "        )\n",
    "        \n",
    "fig, axs = plt.subplots(\n",
    "    len(quant_channels_selected), len(quant_df), figsize=(16, 9), sharey=False\n",
    ")\n",
    "\n",
    "\n",
    "# Helper function to ensure axs is a 2D array\n",
    "def ensure_2d_axs(axs):\n",
    "    if axs.ndim == 1:\n",
    "        if len(quant_channels_selected) == 1 or len(quant_df) == 1:\n",
    "            return axs.reshape(len(quant_channels_selected), len(quant_df))\n",
    "    return axs\n",
    "\n",
    "\n",
    "axs = ensure_2d_axs(axs)\n",
    "\n",
    "# Extracting the uploaded single cell file names from the tuple of dictionaries\n",
    "uploaded_filenames = [file_dict[\"name\"] for file_dict in singlecell_files.value]\n",
    "\n",
    "for i, c in enumerate(quant_channels_selected):\n",
    "    for j, df in enumerate(quant_df):\n",
    "        ax = sns.histplot(df, x=c, ax=axs[i, j])\n",
    "        ax.set(xlabel=f\"{c} content in fg/cell\")\n",
    "\n",
    "        if j == 0:\n",
    "            ax.set(ylabel=\"Cell Count\")\n",
    "\n",
    "        # Using the extracted file's name for the title\n",
    "        ax.set_title(f\"Quantified {c} distribution of {uploaded_filenames[j][:-4]}\")\n",
    "\n",
    "        fig.tight_layout()\n",
    "\n",
    "plt.subplots_adjust(hspace=0.3, wspace=0.2)\n",
    "plt.show()"
   ]
  },
  {
   "cell_type": "markdown",
   "id": "5c1b1ccb-05e5-48a4-8bdc-32051119b938",
   "metadata": {
    "tags": []
   },
   "source": [
    "### Uncomment the cell below to save individual histograms"
   ]
  },
  {
   "cell_type": "code",
   "execution_count": null,
   "id": "f9e95f1f-33da-411a-a83a-6a768be0f437",
   "metadata": {},
   "outputs": [],
   "source": [
    "# Uncomment the section below to save individual histograms rather than displaying them\n",
    "for idx, df in enumerate(quant_df):\n",
    "    for c in quant_channels.value:\n",
    "        ax = sns.displot(df, x=c)\n",
    "\n",
    "        file_name = list(singlecell_files.value[idx].values())[0]\n",
    "        file_base_name = os.path.splitext(file_name)[0]\n",
    "\n",
    "        plt.title(f\"Quantified {c} distribution of {file_base_name}\")\n",
    "        ax.set(xlabel=f\"{c} content in fg/cell\", ylabel=\"Cell Count\")\n",
    "        ax.figure.tight_layout()\n",
    "\n",
    "        save_path = os.path.join(\n",
    "            save_path_widget.value, f\"{file_base_name}_quantified_{c}_hist.png\"\n",
    "        )\n",
    "        plt.savefig(fname=save_path, dpi=600)\n",
    "        plt.close()"
   ]
  },
  {
   "cell_type": "markdown",
   "id": "9ae189f2-cf44-4c06-897c-ac317ce09664",
   "metadata": {},
   "source": [
    "### Uncomment the cell below to save quantified data as .csv files"
   ]
  },
  {
   "cell_type": "code",
   "execution_count": null,
   "id": "6b2d9183-c35a-4eb9-84e2-79849c1e407b",
   "metadata": {},
   "outputs": [],
   "source": [
    "# Uncomment code below to save quantified data as .csv files\n",
    "for idx, df in enumerate(quant_df):\n",
    "    # Make a copy of the dataframe to avoid modifying original df\n",
    "    df_copy = df.copy()\n",
    "\n",
    "    # Append '_quantified' to column names selected by quant_channels\n",
    "    rename_dict = {c: c + \"_quantified\" for c in quant_channels.value}\n",
    "    df_copy.rename(columns=rename_dict, inplace=True)\n",
    "\n",
    "    # Generate save path and save the modified dataframe\n",
    "    file_name = list(singlecell_files.value[idx].values())[0]\n",
    "    file_base_name = os.path.splitext(file_name)[0]\n",
    "\n",
    "    save_path = os.path.join(save_path_widget.value, f\"{file_base_name}_quantified.csv\")\n",
    "    df_copy.to_csv(save_path, index=False)"
   ]
  }
 ],
 "metadata": {
  "kernelspec": {
   "display_name": "Python 3 (ipykernel)",
   "language": "python",
   "name": "python3"
  },
  "language_info": {
   "codemirror_mode": {
    "name": "ipython",
    "version": 3
   },
   "file_extension": ".py",
   "mimetype": "text/x-python",
   "name": "python",
   "nbconvert_exporter": "python",
   "pygments_lexer": "ipython3",
   "version": "3.10.11"
  }
 },
 "nbformat": 4,
 "nbformat_minor": 5
}

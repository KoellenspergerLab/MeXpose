{
 "cells": [
  {
   "cell_type": "code",
   "execution_count": 1,
   "id": "e1307034",
   "metadata": {},
   "outputs": [
    {
     "name": "stdout",
     "output_type": "stream",
     "text": [
      "Running SCIMAP  2.3.5\n"
     ]
    }
   ],
   "source": [
    "import io\n",
    "import os\n",
    "import time\n",
    "import warnings\n",
    "\n",
    "import anndata as ad\n",
    "import imageio.v3 as iio\n",
    "import ipywidgets as widgets\n",
    "import numpy as np\n",
    "import pandas as pd\n",
    "import phenograph\n",
    "import plotly.express as px\n",
    "import plotly.graph_objects as go\n",
    "import scimap as sm\n",
    "import seaborn as sns\n",
    "import umap\n",
    "from IPython.display import clear_output, display\n",
    "from PIL import Image\n",
    "from sklearn import preprocessing\n",
    "import matplotlib.pyplot as plt\n",
    "from matplotlib import cm\n",
    "\n",
    "# Ignore warnings\n",
    "warnings.filterwarnings(\"ignore\")\n",
    "\n",
    "%matplotlib widget"
   ]
  },
  {
   "cell_type": "markdown",
   "id": "e09c9400",
   "metadata": {},
   "source": [
    "## Single-cell Analysis\n",
    "This notebook provides functionallity to perform in-depth visiual and statistical single-cell analysis.  \n",
    "It requires:\n",
    "- single-cell data in CSV format for clustering & cluster analysis, cell distance-/neighbourhood analysis, dimensionality reduction and histogram visualisations\n",
    "- Image data & segmentation masks for spatial heatmap overlay visualisations of cells and corresponding markerintensities"
   ]
  },
  {
   "cell_type": "markdown",
   "id": "a9dd6fd6-128c-422d-ab5f-de7f86906e41",
   "metadata": {
    "tags": []
   },
   "source": [
    "### Select single cell csv file and declare working directory"
   ]
  },
  {
   "cell_type": "code",
   "execution_count": 2,
   "id": "01edc139-0c44-4fe9-b834-df8f04cf4f90",
   "metadata": {},
   "outputs": [
    {
     "data": {
      "application/vnd.jupyter.widget-view+json": {
       "model_id": "e5c2b21010564af7a15b76b62d77e1a9",
       "version_major": 2,
       "version_minor": 0
      },
      "text/plain": [
       "FileUpload(value=(), accept='.csv', description='Upload single-cell CSV', layout=Layout(width='auto'))"
      ]
     },
     "metadata": {},
     "output_type": "display_data"
    },
    {
     "data": {
      "application/vnd.jupyter.widget-view+json": {
       "model_id": "9945467ab9134f14b7161bb5af61e706",
       "version_major": 2,
       "version_minor": 0
      },
      "text/plain": [
       "Text(value='', description='Path:', placeholder='Enter your working directory path', style=TextStyle(descripti…"
      ]
     },
     "metadata": {},
     "output_type": "display_data"
    },
    {
     "data": {
      "application/vnd.jupyter.widget-view+json": {
       "model_id": "a1109e1d5d724c3ea5aed9a51b0d636c",
       "version_major": 2,
       "version_minor": 0
      },
      "text/plain": [
       "Output()"
      ]
     },
     "metadata": {},
     "output_type": "display_data"
    }
   ],
   "source": [
    "output = widgets.Output()\n",
    "\n",
    "\n",
    "def on_value_change(change):\n",
    "    global singlecell_df\n",
    "    global PATH\n",
    "\n",
    "    PATH = working_directory.value\n",
    "\n",
    "    # check\n",
    "    if input_file.value:\n",
    "        uploaded_file = input_file.value[0]\n",
    "        singlecell_df = pd.read_csv(io.BytesIO(uploaded_file.content))\n",
    "\n",
    "        with output:\n",
    "            display(singlecell_df)\n",
    "            output.clear_output(wait=True)\n",
    "\n",
    "\n",
    "input_file = widgets.FileUpload(\n",
    "    accept=\".csv\",\n",
    "    multiple=False,\n",
    "    description=\"Upload single-cell CSV\",\n",
    "    layout={\"width\": \"auto\"},\n",
    ")\n",
    "\n",
    "working_directory = widgets.Text(\n",
    "    value=\"\",\n",
    "    placeholder=\"Enter your working directory path\",\n",
    "    description=\"Path:\",\n",
    "    style={\"description_width\": \"initial\"},\n",
    ")\n",
    "\n",
    "# Observers\n",
    "input_file.observe(on_value_change, names=\"value\")\n",
    "working_directory.observe(on_value_change, names=\"value\")\n",
    "\n",
    "display(input_file, working_directory, output)"
   ]
  },
  {
   "cell_type": "markdown",
   "id": "e4c5c7f7-7d46-413a-aa7a-dd4c3e050935",
   "metadata": {
    "tags": []
   },
   "source": [
    "### Plot raw histogram for the selected channel\n",
    "The dark-blue fitted line is a kernel density estimate which represents the smoothed distribution. "
   ]
  },
  {
   "cell_type": "code",
   "execution_count": 48,
   "id": "1f9da1b7-ab52-469f-ab2c-922d41eeed9f",
   "metadata": {},
   "outputs": [
    {
     "data": {
      "application/vnd.jupyter.widget-view+json": {
       "model_id": "912bef0be19746fc9fae16f113b9617d",
       "version_major": 2,
       "version_minor": 0
      },
      "text/plain": [
       "HBox(children=(VBox(children=(Dropdown(description='Histogram channel:', options=('cell_label', 'Center_Y', 'C…"
      ]
     },
     "execution_count": 48,
     "metadata": {},
     "output_type": "execute_result"
    }
   ],
   "source": [
    "df_dict = {}\n",
    "\n",
    "# Widgets\n",
    "histogram_select = widgets.Dropdown(\n",
    "    options=singlecell_df.columns,\n",
    "    description=\"Histogram channel:\",\n",
    "    style={\"description_width\": \"initial\"},\n",
    ")\n",
    "scale_select = widgets.RadioButtons(\n",
    "    options=[\"linear\", \"log\"],\n",
    "    value=\"linear\",\n",
    "    description=\"Scale:\",\n",
    "    style={\"description_width\": \"initial\"},\n",
    ")\n",
    "hist_version_select = widgets.RadioButtons(\n",
    "    options=list(df_dict.keys()),\n",
    "    description=\"Histogram version\",\n",
    "    style={\"description_width\": \"initial\"},\n",
    ")\n",
    "\n",
    "plot_output = widgets.Output()\n",
    "stats_output = widgets.Output()\n",
    "\n",
    "# conditionally create cluster_select widget if 'cluster' column exists\n",
    "if \"cluster\" in singlecell_df.columns:\n",
    "    cluster_select = widgets.Dropdown(\n",
    "        options=sorted(singlecell_df[\"cluster\"].unique().tolist()),\n",
    "        description=\"Cluster:\",\n",
    "        style={\"description_width\": \"initial\"},\n",
    "    )\n",
    "    # redraw\n",
    "    cluster_select.observe(lambda change: update_histogram(), names=\"value\")\n",
    "else:\n",
    "    cluster_select = None\n",
    "\n",
    "\n",
    "# callback\n",
    "def update_histogram(change=None, data=None):\n",
    "    df = singlecell_df if data is None else data\n",
    "    if len(df_dict) > 0:\n",
    "        df = df_dict.get(hist_version_select.value, df)\n",
    "\n",
    "    # conditioanlly apply cluster selectio\n",
    "    if cluster_select is not None and \"cluster\" in df.columns:\n",
    "        sel = cluster_select.value\n",
    "        if sel is not None:\n",
    "            df = df[df[\"cluster\"] == sel]\n",
    "\n",
    "    # redraw\n",
    "    with plot_output:\n",
    "        clear_output(wait=True)\n",
    "        sns.displot(\n",
    "            df,\n",
    "            x=histogram_select.value,\n",
    "            log_scale=(scale_select.value == \"log\"),\n",
    "            kde=True,\n",
    "        )\n",
    "        plt.ylabel(\"Number of Cells\")\n",
    "        plt.gcf().canvas.toolbar_position = \"right\"\n",
    "        plt.show()\n",
    "\n",
    "    # summary statistics\n",
    "    with stats_output:\n",
    "        clear_output(wait=True)\n",
    "        display(df[histogram_select.value].describe())\n",
    "\n",
    "\n",
    "# observers\n",
    "histogram_select.observe(update_histogram, names=\"value\")\n",
    "scale_select.observe(update_histogram, names=\"value\")\n",
    "\n",
    "# initial draw\n",
    "update_histogram()\n",
    "\n",
    "\n",
    "controls_and_stats = [\n",
    "    histogram_select,\n",
    "    widgets.HTML(\"<b>Channel Statistics:</b>\"),\n",
    "    scale_select,\n",
    "    stats_output,\n",
    "]\n",
    "if cluster_select is not None:\n",
    "    controls_and_stats.insert(0, cluster_select)\n",
    "\n",
    "\n",
    "widgets.HBox([widgets.VBox(controls_and_stats), plot_output])"
   ]
  },
  {
   "cell_type": "markdown",
   "id": "07f5a442-cf72-42e8-a7ef-31c97b288bc0",
   "metadata": {},
   "source": [
    "## Size normalisation (optional)\n",
    "If present, the area of each cell is multiplied by the square of the entered pixelsize to reflect real metrics in µm² rather than arbitrary values in pixels. \\\n",
    "Any selected channels are divided by their respective area (after conversion into µm²). This can aid in facilitating reliable clustering results by eliminating a cell size bias."
   ]
  },
  {
   "cell_type": "code",
   "execution_count": null,
   "id": "c8786ee2-7d9b-42cc-b50f-d45d7957620f",
   "metadata": {},
   "outputs": [],
   "source": [
    "pixelsize_select = widgets.FloatText(\n",
    "    value=None,\n",
    "    step=0.1,\n",
    "    placeholder=\"Pixel size in µm\",\n",
    "    description=\"Pixel size:\",\n",
    "    style={\"description_width\": \"initial\"},\n",
    ")\n",
    "\n",
    "normalise_channels = widgets.SelectMultiple(\n",
    "    options=singlecell_df.columns,\n",
    "    rows=10,\n",
    "    description=\"Channels to normalise by size\",\n",
    "    style={\"description_width\": \"initial\"},\n",
    "    layout=widgets.Layout(width=\"auto\"),\n",
    ")\n",
    "\n",
    "area_select = widgets.Dropdown(\n",
    "    options=singlecell_df.columns,\n",
    "    value=None,\n",
    "    description=\"Area column:\",\n",
    "    style={\"description_width\": \"initial\"},\n",
    ")\n",
    "\n",
    "binary_select_norm = widgets.RadioButtons(\n",
    "    options=[\"Yes\", \"No\"],\n",
    "    value=\"No\",\n",
    "    description=\"Display the modified dataframe?\",\n",
    "    style={\"description_width\": \"initial\"},\n",
    ")\n",
    "\n",
    "diamater_select = widgets.Dropdown(\n",
    "    options=singlecell_df.columns,\n",
    "    value=None,\n",
    "    description=\"Diameter column:\",\n",
    "    style={\"description_width\": \"initial\"},\n",
    ")\n",
    "\n",
    "widgets.HBox(\n",
    "    [\n",
    "        widgets.VBox([pixelsize_select, area_select, diamater_select]),\n",
    "        normalise_channels,\n",
    "        binary_select_norm,\n",
    "    ],\n",
    ")"
   ]
  },
  {
   "cell_type": "code",
   "execution_count": null,
   "id": "c17b07a6-c485-41d5-99b9-bd2af2727433",
   "metadata": {
    "tags": []
   },
   "outputs": [],
   "source": [
    "normalised_df = singlecell_df.copy()\n",
    "\n",
    "# Normalise features by size of cell objects\n",
    "cols_to_divide = list(normalise_channels.value)\n",
    "pixelsize = pixelsize_select.value\n",
    "area_col = area_select.value\n",
    "diameter_col = diamater_select.value\n",
    "\n",
    "if pixelsize != 0 and area_col:\n",
    "    normalised_df[area_col] = normalised_df[area_col].mul(\n",
    "        float(pixelsize) ** 2\n",
    "    )\n",
    "    normalised_df[cols_to_divide] = normalised_df[cols_to_divide].div(\n",
    "        normalised_df[area_col], axis=0\n",
    "    )\n",
    "    if diamater_select.value:\n",
    "        normalised_df[diameter_col] = normalised_df[diameter_col].mul(\n",
    "            float(pixelsize)\n",
    "        )\n",
    "    else:\n",
    "        print(\"No diameter column has been set. (Optional)\")\n",
    "\n",
    "    print(\n",
    "        f\"{len(cols_to_divide)} channels have been normalised by '{area_col}' and pixel size of {pixelsize}µm.\"\n",
    "    )\n",
    "\n",
    "else:\n",
    "    print(\n",
    "        \"Data was not size-normalised. One or more required fields are missing. Pixelsize > 0 and Area column are required.\"\n",
    "    )\n",
    "\n",
    "if binary_select_norm.value == \"Yes\":\n",
    "    display(normalised_df)"
   ]
  },
  {
   "cell_type": "markdown",
   "id": "f0758307",
   "metadata": {},
   "source": [
    "## Outlier Handling (optional)\n",
    "The section below provides three different approaches for handling outliers in your single-cell data:\n",
    "\n",
    "**1. Average Percentile Rank Method** (remove_outliers_percentiles)  \n",
    "This function calculates each cell's percentile rank across multiple selected features, then computes an average rank to identify outliers. By using the average rank instead of filtering on individual channels, this method ensures that cells are only removed when they consistently show extreme values across multiple features.\n",
    "\n",
    "When to use: Ideal when you want a non-parametric approach that doesn't assume any particular data distribution.\n",
    "\n",
    "**2. Average Z-Score Method** (remove_outliers_zscore)  \n",
    "This function calculates Z-scores (standard deviations from the mean) for each value, then averages the absolute Z-scores across the selected features. Cells with average Z-scores exceeding your threshold are considered outliers.\n",
    "\n",
    "When to use: Best for data that approximately follows a normal distribution. The threshold n_std determines how strict the filtering is - typically values of 2-3 are used.\n",
    "\n",
    "**3. Individual Thresholds Method** (individual_thresholds)  \n",
    "Unlike the above methods which exclude entire cells, this function allows you to set specific min/max thresholds for each channel independently. Values above or below these thresholds are clipped to mathc the set range rather than removing the entire cell.\n",
    "\n",
    "When to use: When you want to clean specific channel values without losing entire cells, or when different channels require different threshold strategies."
   ]
  },
  {
   "cell_type": "code",
   "execution_count": null,
   "id": "e23402d1-19fc-48e6-8f82-2341d0567ec9",
   "metadata": {
    "tags": []
   },
   "outputs": [],
   "source": [
    "# Remove outliers based on the average percentile rank across multiple columns\n",
    "def remove_outliers_percentiles(df, columns, upper_quant, lower_quant):\n",
    "    ranks_df = pd.DataFrame()\n",
    "    for col in columns:\n",
    "        # convert to percentile rank\n",
    "        ranks_df[f\"{col}_rank\"] = df[col].rank(pct=True)\n",
    "\n",
    "    ranks_df[\"avg_rank\"] = ranks_df.mean(axis=1)\n",
    "    mask = (ranks_df[\"avg_rank\"] >= lower_quant) & (ranks_df[\"avg_rank\"] <= upper_quant)\n",
    "\n",
    "    non_outliers = df[mask]\n",
    "    outliers = df[~mask]\n",
    "\n",
    "    return non_outliers, outliers\n",
    "\n",
    "\n",
    "# Remove outliers based on the average absolute Z-score across multiple columns\n",
    "def remove_outliers_zscore(df, columns, n_std):\n",
    "    z_scores_df = pd.DataFrame()\n",
    "    for col in columns:\n",
    "        z_scores_df[f\"{col}_z\"] = (df[col] - df[col].mean()) / df[col].std()\n",
    "\n",
    "    abs_z_scores_df = z_scores_df.abs()\n",
    "    abs_z_scores_df[\"avg_abs_z\"] = abs_z_scores_df.mean(axis=1)\n",
    "    mask = abs_z_scores_df[\"avg_abs_z\"] <= n_std\n",
    "\n",
    "    non_outliers = df[mask]\n",
    "    outliers = df[~mask]\n",
    "\n",
    "    return non_outliers, outliers\n",
    "\n",
    "\n",
    "# Clip values to [min, max]\n",
    "def individual_thresholds(df, threshold_widgets):\n",
    "    original = df.copy()\n",
    "    clipped = df.copy()\n",
    "    outlier_mask = pd.Series(False, index=df.index)\n",
    "\n",
    "    for ch, w in threshold_widgets.items():\n",
    "        if ch not in df.columns:\n",
    "            print(f\"Warning: '{ch}' not in DataFrame—skipping\")\n",
    "            continue\n",
    "        lo, hi = w[\"min\"].value, w[\"max\"].value\n",
    "\n",
    "        below = clipped[ch] < lo\n",
    "        above = clipped[ch] > hi\n",
    "\n",
    "        # record changed rows\n",
    "        outlier_mask |= below | above\n",
    "\n",
    "        # clipping\n",
    "        clipped.loc[below, ch] = lo\n",
    "        clipped.loc[above, ch] = hi\n",
    "\n",
    "    outliers_df = original[outlier_mask].copy()\n",
    "    return clipped, outliers_df\n",
    "\n",
    "\n",
    "if \"normalised_df\" in locals():\n",
    "    data_to_filter = normalised_df.copy()\n",
    "    print(\n",
    "        \"Data was previously size-normalised. Filtering outliers from normalised data!\"\n",
    "    )\n",
    "else:\n",
    "    data_to_filter = singlecell_df.copy()\n",
    "    print(\n",
    "        \"Data was not size-normalised. Filtering/Thresholding performed on original data!\"\n",
    "    )"
   ]
  },
  {
   "cell_type": "code",
   "execution_count": null,
   "id": "f68f2ab3",
   "metadata": {},
   "outputs": [],
   "source": [
    "filter_channels = widgets.SelectMultiple(\n",
    "    options=singlecell_df.columns,\n",
    "    rows=10,\n",
    "    description=\"Channels\",\n",
    "    style={\"description_width\": \"initial\"},\n",
    ")\n",
    "binary_select_filter = widgets.RadioButtons(\n",
    "    options=[\"Yes\", \"No\"],\n",
    "    value=\"No\",\n",
    "    description=\"Do you wish to display the modified dataframe?\",\n",
    "    style={\"description_width\": \"initial\"},\n",
    ")\n",
    "outlier_method = widgets.RadioButtons(\n",
    "    options=[\"Percentiles\", \"Z-Score\", \"Individual Thresholds\"],\n",
    "    description=\"Outlier Method:\",\n",
    "    disabled=False,\n",
    ")\n",
    "n_std_select = widgets.FloatText(\n",
    "    step=0.1,\n",
    "    description=\"Number of standard deviations:\",\n",
    "    style={\"description_width\": \"initial\"},\n",
    ")\n",
    "upper_quant_select = widgets.FloatText(\n",
    "    step=0.001,\n",
    "    description=\"Upper percentile limit:\",\n",
    "    style={\"description_width\": \"initial\"},\n",
    ")\n",
    "lower_quant_select = widgets.FloatText(\n",
    "    step=0.001,\n",
    "    description=\"Lower percentile limit:\",\n",
    "    style={\"description_width\": \"initial\"},\n",
    ")"
   ]
  },
  {
   "cell_type": "code",
   "execution_count": null,
   "id": "5ccb57a7",
   "metadata": {},
   "outputs": [],
   "source": [
    "# Threshold widgets container\n",
    "individual_thresholds_container = widgets.Output()\n",
    "last_update_time = 0\n",
    "\n",
    "def update_display(trigger=None):\n",
    "    global last_update_time\n",
    "    now = time.time()\n",
    "    if trigger!=\"channel_selection\" and now - last_update_time < 0.2:\n",
    "        return\n",
    "    last_update_time = now\n",
    "\n",
    "    with individual_thresholds_container:\n",
    "        individual_thresholds_container.clear_output(wait=True)\n",
    "        if outlier_method.value==\"Individual Thresholds\":\n",
    "            create_threshold_ui()\n",
    "\n",
    "threshold_widgets = {}\n",
    "\n",
    "def create_threshold_ui():\n",
    "    channels = list(filter_channels.value)\n",
    "    if not channels:\n",
    "        print(\"Please select channels first\")\n",
    "        return\n",
    "\n",
    "    # fixed layouts\n",
    "    name_l  = widgets.Layout(width=\"200px\")\n",
    "    field_l = widgets.Layout(width=\"150px\")\n",
    "    style   = {\"description_width\":\"initial\"}\n",
    "\n",
    "    # headers\n",
    "    hdr = [\n",
    "        widgets.HTML(\"<b>Channel</b>\"),\n",
    "        widgets.HTML(\"<b>Min</b>\"),\n",
    "        widgets.HTML(\"<b>Max</b>\")\n",
    "    ]\n",
    "    grid_children = hdr.copy()\n",
    "\n",
    "    for ch in channels:\n",
    "        vals = singlecell_df[ch]\n",
    "        min_w = widgets.FloatText(value=vals.min(), step=0.001,\n",
    "                                  layout=field_l, style=style)\n",
    "        max_w = widgets.FloatText(value=vals.max(), step=0.001,\n",
    "                                  layout=field_l, style=style)\n",
    "        lbl = widgets.HTML(f\"<b>{ch}</b>\", layout=name_l)\n",
    "\n",
    "        threshold_widgets[ch] = {\"min\":min_w, \"max\":max_w}\n",
    "        grid_children.extend([lbl, min_w, max_w])\n",
    "\n",
    "    grid = widgets.GridBox(\n",
    "        children=grid_children,\n",
    "        layout=widgets.Layout(\n",
    "            grid_template_columns=\"200px 150px 150px\",\n",
    "            grid_gap=\"10px 10px\"\n",
    "        )\n",
    "    )\n",
    "\n",
    "    display(widgets.HTML(\"<h3>Per-Channel Thresholds</h3>\"))\n",
    "    display(grid)\n",
    "\n",
    "# observers\n",
    "outlier_method.observe(lambda c: update_display(\"method_change\"), names=\"value\")\n",
    "filter_channels.observe(lambda c: update_display(\"channel_selection\"), names=\"value\")\n",
    "\n",
    "# display\n",
    "display(widgets.VBox([\n",
    "    widgets.HBox([filter_channels, outlier_method, binary_select_filter]),\n",
    "    widgets.HBox([n_std_select, upper_quant_select, lower_quant_select])\n",
    "]))\n",
    "display(individual_thresholds_container)\n",
    "update_display(\"initial\")"
   ]
  },
  {
   "cell_type": "code",
   "execution_count": null,
   "id": "3de61f87",
   "metadata": {},
   "outputs": [],
   "source": [
    "columns_to_filter = list(filter_channels.value)\n",
    "\n",
    "try:\n",
    "    if not columns_to_filter:\n",
    "        print(\"No channels selected for filtering!\")\n",
    "    else:\n",
    "        if outlier_method.value == \"Percentiles\":\n",
    "            filtered_df, outliers_df = remove_outliers_percentiles(\n",
    "                data_to_filter,\n",
    "                columns_to_filter,\n",
    "                float(upper_quant_select.value),\n",
    "                float(lower_quant_select.value),\n",
    "            )\n",
    "            print(\n",
    "                str(len(outliers_df))\n",
    "                + \" cell events were filtered out using percentiles and stored in `outliers_df`!\"\n",
    "            )\n",
    "        elif outlier_method.value == \"Z-Score\":\n",
    "            filtered_df, outliers_df = remove_outliers_zscore(\n",
    "                data_to_filter, columns_to_filter, float(n_std_select.value)\n",
    "            )\n",
    "            print(\n",
    "                str(len(outliers_df))\n",
    "                + \" cell events were filtered out using z-score and stored in `outliers_df`!\"\n",
    "            )\n",
    "        else:\n",
    "            filtered_df, outliers_df = individual_thresholds(\n",
    "                data_to_filter, threshold_widgets\n",
    "            )\n",
    "            print(f\"{len(outliers_df)} rows were modified using thresholds!\")\n",
    "except Exception as e:\n",
    "    filtered_df = data_to_filter.copy()\n",
    "    print(f\"An error occurred during filtering: {e}. Using original data!\")\n",
    "\n",
    "\n",
    "if binary_select_filter.value == \"Yes\":\n",
    "    display(filtered_df)"
   ]
  },
  {
   "cell_type": "markdown",
   "id": "c3009810-7459-474f-a59b-79f458c7419b",
   "metadata": {},
   "source": [
    "##### Uncomment cell below to save filtered data as CSV (e.g. for quantification) "
   ]
  },
  {
   "cell_type": "code",
   "execution_count": null,
   "id": "3b38a5c0-f4bf-43d8-bc25-669e11d458ff",
   "metadata": {},
   "outputs": [],
   "source": [
    "# filtered_df.to_csv(os.path.join(PATH, 'filtered.csv'), index=False)"
   ]
  },
  {
   "cell_type": "markdown",
   "id": "f1982622-f2cc-46bc-8e53-52f524aba839",
   "metadata": {
    "tags": []
   },
   "source": [
    "### Plot normalised and or filtered histogram for the selected channel"
   ]
  },
  {
   "cell_type": "code",
   "execution_count": null,
   "id": "1213f099-c0d9-485f-a8d3-0fea04d4d0f7",
   "metadata": {},
   "outputs": [],
   "source": [
    "df_dict[\"Original data\"] = singlecell_df.copy()\n",
    "\n",
    "if \"normalised_df\" in locals() and \"filtered_df\" in locals():\n",
    "    df_dict[\"Normalised data\"] = normalised_df\n",
    "    df_dict[\"Filtered data\"] = filtered_df\n",
    "elif \"normalised_df\" in locals():\n",
    "    df_dict[\"Normalised data\"] = normalised_df\n",
    "elif \"filtered_df\" in locals():\n",
    "    df_dict[\"Filtered data\"] = filtered_df\n",
    "else:\n",
    "    print(\n",
    "        \"Neither size normalisation nor outlier filtering was performed. Only original data is available to plot a histogram!\"\n",
    "    )\n",
    "\n",
    "# Create an Output widget\n",
    "plot_output = widgets.Output()\n",
    "\n",
    "# Update the observe function to reference update_hist_version\n",
    "histogram_select.observe(update_histogram, names=\"value\")\n",
    "hist_version_select.observe(update_histogram, names=\"value\")\n",
    "scale_select.observe(update_histogram, names=\"value\")\n",
    "\n",
    "update_histogram()\n",
    "\n",
    "# Display\n",
    "widgets.HBox(\n",
    "    [\n",
    "        widgets.VBox([histogram_select, scale_select, stats_output]),\n",
    "        hist_version_select,\n",
    "        plot_output,\n",
    "    ]\n",
    ")"
   ]
  },
  {
   "cell_type": "markdown",
   "id": "60afc4d4-ee5b-4696-8961-db140f3fdfef",
   "metadata": {},
   "source": [
    "## IMPORTANT: Checking which version of the data is present\n",
    "*(original/size-normalised/outlier filtered/combination)* \\\n",
    "This cell needs to be executed before continuing!"
   ]
  },
  {
   "cell_type": "code",
   "execution_count": 3,
   "id": "082b8d3d-cc5f-4de5-a056-9a5b2d0f7662",
   "metadata": {},
   "outputs": [
    {
     "name": "stdout",
     "output_type": "stream",
     "text": [
      "Data was neither size-normalised nor outlier filtered. Using original data for downstream analysis!\n"
     ]
    }
   ],
   "source": [
    "if \"filtered_df\" in locals():\n",
    "    print(\n",
    "        \"Data was outlier filtered. Filtered data will be used for downstream analysis!\"\n",
    "    )\n",
    "elif \"normalised_df\" in locals():\n",
    "    print(\n",
    "        \"Data was not outlier filtered but normalised by size. Using size-normalised data for downstream analysis!\"\n",
    "    )\n",
    "    filtered_df = normalised_df.copy()\n",
    "else:\n",
    "    print(\n",
    "        \"Data was neither size-normalised nor outlier filtered. Using original data for downstream analysis!\"\n",
    "    )\n",
    "    filtered_df = singlecell_df.copy()"
   ]
  },
  {
   "cell_type": "markdown",
   "id": "cd3c1fc0-d65d-443f-bb87-b551eca362fc",
   "metadata": {},
   "source": [
    "## Plot a heatmap for the selected channel overlayed on a raw image\n",
    "When executed this cell will produce an interactive single-cell/object mask layered on-top of a raw image. Colours are mapped to indicate channel intensity. \\\n",
    "Upload a .png segmentation mask of your cells/objects and your raw or processed (increasing contrast can greatly improve visability) sample image. Select the channel you wish to visualise and click the 'Load data and visualise' button. \\\n",
    "Move the 'Intensity range'-slider to adjust upper and lower thresholds for the channel intensity. \\\n",
    "Move the 'Opacity'-slider to adjust the opacity of the overlayed cell-/object mask.  \n",
    "  \n",
    "To add ROIs, select the lasso tool and simply draw on the segmentation mask. Entering a name for the ROI and clicking the 'Save'-button will export the cells within the ROI as a CSV named accordingly.  \n",
    "Multiple selections can be concetenated into one ROI by pressing and holding **'Shift'** for any subsequent selection after the initial one.  \n",
    "Additionbally, cells can be part of up to 3 ROIs (levels) at once. Edit ```max_levels = 3``` and ```roi_cols = [\"ROI\", \"secondary ROI\", \"tertiary ROI\"]``` to extend or limit the levels of ROIs.\n",
    "\n",
    "**NOTE**:  \n",
    "This plotting function relies on a **\"cell_label\"**-column contained in the single-cell CSV to correctly index the individual cells. This entry is automatically included if the single-cell data was extracted using the **data_extraction notebook**.  \n",
    "If this was not the case, please adjust all occurance of **\"cell_label\"** in the next cell but one (nameley lines: 61, 193, 230 and 264).  \n",
    "Visualising **\"cell_label\"** (or it's replacement value) from the dropdown selection is not supported and will produce an error.  \n",
    "Adjust the ```MAX_DISPLAY_WIDTH``` variable on line 1 of the cell below to accomodate for your maximum screen resolution *minus* extra space for the colourbar (~500px at WHQD resolution).  \n",
    "This is only necessary if your image appears cut off meaning the image width in pixels is close to your displays maximum horizontal resolution.  "
   ]
  },
  {
   "cell_type": "code",
   "execution_count": 49,
   "id": "86f036d5",
   "metadata": {},
   "outputs": [],
   "source": [
    "MAX_DISPLAY_WIDTH = 1850\n",
    "\n",
    "# Widgets\n",
    "background_uploader = widgets.FileUpload(\n",
    "    accept=\"image/*\",\n",
    "    multiple=False,\n",
    "    description=\"Background Image\",\n",
    "    layout=widgets.Layout(width=\"auto\"),\n",
    ")\n",
    "mask_uploader = widgets.FileUpload(\n",
    "    accept=\"image/*\",\n",
    "    multiple=False,\n",
    "    description=\"Segmentation Mask\",\n",
    "    layout=widgets.Layout(width=\"auto\"),\n",
    ")\n",
    "channel_dropdown = widgets.Dropdown(\n",
    "    description=\"Channel\",\n",
    "    options=filtered_df.columns,\n",
    "    value=None,\n",
    ")\n",
    "op_slider = widgets.FloatSlider(\n",
    "    value=0.6,\n",
    "    min=0.05,\n",
    "    max=1.0,\n",
    "    step=0.05,\n",
    "    description=\"Opacity\",\n",
    "    style={\"description_width\": \"initial\"},\n",
    "    continuous_update=False,\n",
    ")\n",
    "range_slider = widgets.FloatRangeSlider(\n",
    "    description=\"Intensity range\",\n",
    "    style={\"description_width\": \"initial\"},\n",
    "    disabled=True,\n",
    "    continuous_update=False,\n",
    ")\n",
    "name_text = widgets.Text(placeholder=\"Selection\", description=\"Save as\")\n",
    "save_btn = widgets.Button(description=\"Save\", button_style=\"info\", disabled=True)\n",
    "selection_out = widgets.Output()\n",
    "output_area = widgets.Output()\n",
    "ui = widgets.VBox(\n",
    "    [\n",
    "        widgets.HBox([background_uploader, mask_uploader]),\n",
    "        widgets.HBox([channel_dropdown, op_slider, range_slider]),\n",
    "        widgets.HBox([name_text, save_btn]),\n",
    "        selection_out,\n",
    "        output_area,\n",
    "    ]\n",
    ")\n",
    "ui_out1 = widgets.Output()  # first cell output area\n",
    "ui_out2 = widgets.Output()  # second cell output area"
   ]
  },
  {
   "cell_type": "code",
   "execution_count": 50,
   "id": "00e38324",
   "metadata": {},
   "outputs": [
    {
     "data": {
      "application/vnd.jupyter.widget-view+json": {
       "model_id": "0724b9af1a1244b483397cdc4645011d",
       "version_major": 2,
       "version_minor": 0
      },
      "text/plain": [
       "Output()"
      ]
     },
     "metadata": {},
     "output_type": "display_data"
    }
   ],
   "source": [
    "# Initially render\n",
    "with ui_out1:\n",
    "    display(ui)\n",
    "display(ui_out1)\n",
    "\n",
    "# State variables\n",
    "last_selected = []\n",
    "saved_select = {}\n",
    "saved_traces = {}\n",
    "palette = px.colors.qualitative.Plotly\n",
    "\n",
    "\n",
    "# Helpers\n",
    "def _prep_background(bg: np.ndarray) -> Image.Image:\n",
    "    arr = bg.copy()\n",
    "\n",
    "    # dtype handling\n",
    "    if arr.dtype.kind == \"f\":  # float32/64\n",
    "        peak = np.nanmax(arr) or 1.0\n",
    "        arr = np.clip(arr / peak * 255, 0, 255).astype(np.uint8)\n",
    "    elif arr.dtype.kind in \"ui\" and (\n",
    "        arr.dtype.itemsize > 1 or arr.max() > 255\n",
    "    ):  # >8‑bit int\n",
    "        peak = arr.max() or 1\n",
    "        arr = (arr / peak * 255).astype(np.uint8)\n",
    "\n",
    "    # channel handling\n",
    "    if arr.ndim == 2:  # gray to RGB\n",
    "        arr = np.stack([arr] * 3, axis=-1)\n",
    "    elif arr.shape[-1] == 4:  # drop alpha\n",
    "        arr = arr[..., :3]\n",
    "\n",
    "    return Image.fromarray(arr)\n",
    "\n",
    "\n",
    "def _save_selection(_):\n",
    "    with selection_out:\n",
    "        selection_out.clear_output(wait=True)\n",
    "\n",
    "        # validate inputs\n",
    "        name = name_text.value.strip()\n",
    "        if not name:\n",
    "            print(\"Please enter a name for the selection first.\")\n",
    "            return\n",
    "        if not last_selected:\n",
    "            print(\"No selection to save.\")\n",
    "            return\n",
    "        if name in saved_select:\n",
    "            print(f\"A selection called “{name}” already exists.\")\n",
    "            return\n",
    "\n",
    "        # ROI tagging parameters\n",
    "        max_levels = 3\n",
    "        roi_cols = [\"ROI\", \"secondary ROI\", \"tertiary ROI\"]\n",
    "\n",
    "        # ensure primary ROI exists\n",
    "        if roi_cols[0] not in filtered_df.columns:\n",
    "            filtered_df[roi_cols[0]] = None\n",
    "\n",
    "        # build selection mask\n",
    "        sel_mask = filtered_df[\"cell_label\"].isin(last_selected)\n",
    "        remaining = sel_mask.copy()\n",
    "\n",
    "        # tag up to max_levels\n",
    "        for level, col in enumerate(roi_cols, start=1):\n",
    "            if level > 1 and col not in filtered_df.columns:\n",
    "                filtered_df[col] = None\n",
    "            can_assign = remaining & filtered_df[col].isna()\n",
    "            filtered_df.loc[can_assign, col] = name\n",
    "            remaining = remaining & ~can_assign\n",
    "            if not remaining.any():\n",
    "                break\n",
    "\n",
    "        if remaining.any():\n",
    "            n_exceeded = int(remaining.sum())\n",
    "            print(\n",
    "                f\"Warning: {n_exceeded} row(s) already tagged at all \"\n",
    "                f\"{max_levels} ROI levels; cannot tag further.\"\n",
    "            )\n",
    "\n",
    "        # slice & cache selection\n",
    "        sub_df = filtered_df.loc[sel_mask].copy()\n",
    "        saved_select[name] = sub_df\n",
    "\n",
    "        # build/add scatter trace\n",
    "        colour = palette[len(saved_traces) % len(palette)]\n",
    "        centroids = _build_centroids(_get_cached(mask_uploader, \"mask\"))\n",
    "        coords = centroids.loc[last_selected]\n",
    "\n",
    "        sel_trace = go.Scattergl(\n",
    "            x=coords.x,\n",
    "            y=coords.y,\n",
    "            mode=\"markers\",\n",
    "            marker=dict(size=6, symbol=\"circle\", color=colour, line=dict(width=2)),\n",
    "            name=name,\n",
    "            showlegend=True,\n",
    "            meta={\"saved\": True},\n",
    "        )\n",
    "        _fig.add_trace(sel_trace)\n",
    "        saved_traces[name] = sel_trace\n",
    "\n",
    "        # export to CSV\n",
    "        filepath = os.path.join(PATH, f\"{name}.csv\")\n",
    "        sub_df.to_csv(filepath, index=False)\n",
    "\n",
    "        save_btn.disabled = True\n",
    "        name_text.value = \"\"\n",
    "        total = len(sub_df)\n",
    "        print(f\"Saved “{name}” with {total} rows (up to {max_levels} ROI levels).\")\n",
    "        display(sub_df.head())\n",
    "\n",
    "\n",
    "# lasso callback\n",
    "def _on_sel(trace, pts, selector):\n",
    "    with selection_out:\n",
    "        selection_out.clear_output(wait=True)\n",
    "\n",
    "        idx = pts.point_inds\n",
    "        trace.selectedpoints = idx or None\n",
    "\n",
    "        if not idx:\n",
    "            last_selected.clear()\n",
    "            save_btn.disabled = True\n",
    "            print(\"No cells selected.\")\n",
    "            return\n",
    "\n",
    "        labels = trace.customdata[idx, 0].astype(int).tolist()\n",
    "        last_selected[:] = labels\n",
    "        save_btn.disabled = False\n",
    "\n",
    "        vals = trace.customdata[idx, 1]\n",
    "        print(f\"{len(labels)} cells selected on “{current_channel}”.\")\n",
    "        print(f\"  min / max {current_channel}: {vals.min():.3g} / {vals.max():.3g}\")\n",
    "        print(\"  first IDs:\", labels[:10], \"…\" if len(labels) > 10 else \"\")\n",
    "\n",
    "\n",
    "# Main callback\n",
    "_img_cache, _int_cache, _centroid_cache, _fig, last_channel = {}, {}, {}, None, None\n",
    "\n",
    "\n",
    "def _get_cached(upl, key):\n",
    "    if key not in _img_cache:\n",
    "        _img_cache[key] = iio.imread(upl.value[0][\"content\"])\n",
    "    return _img_cache[key]\n",
    "\n",
    "\n",
    "def _build_centroids(mask):\n",
    "    if \"xy\" in _centroid_cache:\n",
    "        return _centroid_cache[\"xy\"]\n",
    "    ys, xs = np.nonzero(mask)\n",
    "    df = pd.DataFrame({\"x\": xs, \"y\": ys, \"lbl\": mask[ys, xs]})\n",
    "    cent = df.groupby(\"lbl\")[[\"x\", \"y\"]].mean().astype(int)\n",
    "    cent = cent[cent.index != 0]  # drop background\n",
    "    _centroid_cache[\"xy\"] = cent\n",
    "    return cent\n",
    "\n",
    "\n",
    "def _render(full_update=True):\n",
    "    global _fig, last_channel, current_channel\n",
    "\n",
    "    # fast opacity‐only update\n",
    "    if not full_update and _fig is not None:\n",
    "        _fig.layout.images[1].opacity = op_slider.value\n",
    "        return\n",
    "\n",
    "    # load background + mask\n",
    "    try:\n",
    "        bg = _get_cached(background_uploader, \"bg\")\n",
    "        mask = _get_cached(mask_uploader, \"mask\")\n",
    "    except (ValueError, IndexError):\n",
    "        with output_area:\n",
    "            clear_output()\n",
    "            print(\"Upload images first.\")\n",
    "        return\n",
    "\n",
    "    # channel selection\n",
    "    channel_dropdown.options = filtered_df.columns\n",
    "    ch = channel_dropdown.value or \"\"\n",
    "    current_channel = ch\n",
    "    if ch == \"\":\n",
    "        with output_area:\n",
    "            clear_output()\n",
    "            print(\"Pick a channel\")\n",
    "        return\n",
    "\n",
    "    H, W = mask.shape\n",
    "    disp_w = min(MAX_DISPLAY_WIDTH, W)\n",
    "    disp_h = int(disp_w * (H / W))\n",
    "\n",
    "    # categorical branch\n",
    "    if ch == \"cluster\":\n",
    "        # build float mask\n",
    "        lut = filtered_df.set_index(\"cell_label\")[ch].to_dict()\n",
    "        labels = np.full(mask.shape, np.nan, dtype=float)\n",
    "        for cid, val in lut.items():\n",
    "            labels[mask == cid] = float(val)\n",
    "\n",
    "        uniq = np.unique(labels[~np.isnan(labels)]).astype(int)\n",
    "        cmap = plt.get_cmap(\"tab20\", len(uniq))\n",
    "\n",
    "        # RGBA overlay\n",
    "        rgba = np.zeros(mask.shape + (4,), dtype=np.uint8)\n",
    "        for idx, lbl in enumerate(uniq):\n",
    "            col = (np.array(cmap(idx)[:3]) * 255).astype(np.uint8)\n",
    "            rgba[labels == lbl, :3] = col\n",
    "            rgba[labels == lbl, 3] = 255\n",
    "        overlay = Image.fromarray(rgba, mode=\"RGBA\")\n",
    "\n",
    "        # centroids + hover\n",
    "        cent = _build_centroids(mask)\n",
    "        cent[\"cluster\"] = cent.index.to_series().map(lut.get)\n",
    "        hovertemplate = (\n",
    "            \"cell %{customdata[0]}<br>cluster: %{customdata[1]}<extra></extra>\"\n",
    "        )\n",
    "\n",
    "        cb_args = None\n",
    "\n",
    "        # prepare legend‐color mapping\n",
    "        legend_colors = {\n",
    "            lbl: tuple((np.array(cmap(i)[:3]) * 255).astype(int))\n",
    "            for i, lbl in enumerate(uniq)\n",
    "        }\n",
    "\n",
    "    # continuous branch\n",
    "    else:\n",
    "        # intensity caching\n",
    "        if ch in _int_cache:\n",
    "            inten = _int_cache[ch]\n",
    "        else:\n",
    "            lut = filtered_df.set_index(\"cell_label\")[ch].to_dict()\n",
    "            table = np.full(mask.max() + 1, np.nan, dtype=float)\n",
    "            for cid, val in lut.items():\n",
    "                if cid < table.size:\n",
    "                    table[cid] = val\n",
    "            inten = table[mask]\n",
    "            _int_cache[ch] = inten\n",
    "\n",
    "        if np.all(np.isnan(inten)):\n",
    "            with output_area:\n",
    "                clear_output()\n",
    "                print(\"No matching labels.\")\n",
    "            return\n",
    "\n",
    "        nz = inten[~np.isnan(inten)]\n",
    "        imin, imax = float(nz.min()), float(nz.max())\n",
    "\n",
    "        # update range slider\n",
    "        if range_slider.disabled:\n",
    "            range_slider.disabled = False\n",
    "        range_slider.min, range_slider.max = imin, imax\n",
    "        if ch != last_channel:\n",
    "            range_slider.value = (imin, imax)\n",
    "        zmin, zmax = range_slider.value\n",
    "        last_channel = ch\n",
    "\n",
    "        # RGBA overlay\n",
    "        norm = np.clip((inten - zmin) / (zmax - zmin), 0, 1)\n",
    "        rgba = (cm.get_cmap(\"viridis\")(norm) * 255).astype(np.uint8)\n",
    "        rgba[..., 3] = 255\n",
    "        rgba[np.isnan(norm)] = [0, 0, 0, 0]\n",
    "        overlay = Image.fromarray(rgba, mode=\"RGBA\")\n",
    "\n",
    "        # hover\n",
    "        val_map = filtered_df.set_index(\"cell_label\")[ch].to_dict()\n",
    "        cent = _build_centroids(mask)\n",
    "        cent[\"val\"] = cent.index.to_series().map(val_map.get)\n",
    "        hovertemplate = (\n",
    "            f\"cell %{{customdata[0]}}<br>{ch}: %{{customdata[1]:.3g}}<extra></extra>\"\n",
    "        )\n",
    "\n",
    "        # continuous‐colorbar\n",
    "        cb_args = dict(\n",
    "            x=[W, W],\n",
    "            y=[H, H],\n",
    "            mode=\"markers\",\n",
    "            marker=dict(\n",
    "                color=[zmin, zmax],\n",
    "                colorscale=\"Viridis\",\n",
    "                cmin=zmin,\n",
    "                cmax=zmax,\n",
    "                showscale=True,\n",
    "                colorbar=dict(\n",
    "                    len=0.7,\n",
    "                    y=0.5,\n",
    "                    tickfont=dict(color=\"white\"),\n",
    "                    title_font=dict(color=\"white\")\n",
    "                ),\n",
    "                size=0,\n",
    "            ),\n",
    "            hoverinfo=\"none\",\n",
    "            showlegend=False,\n",
    "            name=None,\n",
    "        )\n",
    "\n",
    "        legend_colors = {}\n",
    "\n",
    "    # remove extra traces\n",
    "    def _purge_extra_traces():\n",
    "        new_data = []\n",
    "\n",
    "        # keep background/overlay + colourbar\n",
    "        new_data.extend(_fig.data[:1])\n",
    "\n",
    "        # keep saved traces\n",
    "        for tr in _fig.data[1:]:\n",
    "            meta = tr.meta if isinstance(tr.meta, dict) else {}\n",
    "            if meta.get(\"saved\", False):\n",
    "                new_data.append(tr)\n",
    "\n",
    "        _fig.data = tuple(new_data)\n",
    "\n",
    "    # build vs. update figure\n",
    "    if _fig is None:\n",
    "        with output_area:\n",
    "            clear_output()\n",
    "            _fig = go.FigureWidget(\n",
    "                layout=dict(\n",
    "                    width=disp_w,\n",
    "                    height=disp_h,\n",
    "                    margin=dict(l=0, r=0, t=0, b=0),\n",
    "                    dragmode=\"lasso\",\n",
    "                    uirevision=\"keep\",\n",
    "                )\n",
    "            )\n",
    "            _fig.update_layout(\n",
    "                paper_bgcolor=\"black\",\n",
    "                plot_bgcolor=\"black\",\n",
    "                font=dict(color=\"white\"),\n",
    "                legend=dict(\n",
    "                    font=dict(color=\"white\"),\n",
    "                    itemsizing=\"constant\",\n",
    "                    title_text=\"Clusters\",\n",
    "                    orientation=\"h\",\n",
    "                    yanchor=\"bottom\",\n",
    "                    y=1.02,\n",
    "                    xanchor=\"left\",\n",
    "                    x=0,\n",
    "                ),\n",
    "            )\n",
    "\n",
    "            # background + overlay\n",
    "            for src, layer in ((_prep_background(bg), \"below\"), (overlay, \"above\")):\n",
    "                _fig.add_layout_image(\n",
    "                    dict(\n",
    "                        source=src,\n",
    "                        x=0,\n",
    "                        y=0,\n",
    "                        sizex=W,\n",
    "                        sizey=H,\n",
    "                        layer=layer,\n",
    "                        xref=\"x\",\n",
    "                        yref=\"y\",\n",
    "                        opacity=(op_slider.value if layer == \"above\" else 1),\n",
    "                    )\n",
    "                )\n",
    "\n",
    "            # centroid scatter\n",
    "            sc = go.Scattergl(\n",
    "                x=cent.x,\n",
    "                y=cent.y,\n",
    "                mode=\"markers\",\n",
    "                marker=dict(size=3, opacity=0),\n",
    "                customdata=np.stack(\n",
    "                    [cent.index, cent[\"cluster\"] if ch == \"cluster\" else cent[\"val\"]], 1\n",
    "                ),\n",
    "                hovertemplate=hovertemplate,\n",
    "                selected=dict(marker=dict(opacity=1, size=6, color=\"white\")),\n",
    "                unselected=dict(marker=dict(opacity=0)),\n",
    "                showlegend=False,\n",
    "            )\n",
    "            _fig.add_trace(sc)\n",
    "            _fig.data[0].on_selection(_on_sel)\n",
    "\n",
    "            # continuous colorbar\n",
    "            if cb_args:\n",
    "                _fig.add_trace(go.Scatter(**cb_args))\n",
    "\n",
    "            # cluster legend entries\n",
    "            if legend_colors:\n",
    "                for lbl, rgb in legend_colors.items():\n",
    "                    rgba_str = f\"rgba({rgb[0]},{rgb[1]},{rgb[2]},255)\"\n",
    "                    _fig.add_trace(\n",
    "                        go.Scatter(\n",
    "                            x=[None],\n",
    "                            y=[None],\n",
    "                            mode=\"markers\",\n",
    "                            marker=dict(color=rgba_str, size=6),\n",
    "                            name=str(lbl),\n",
    "                            showlegend=True,\n",
    "                        )\n",
    "                    )\n",
    "\n",
    "            _fig.update_xaxes(visible=False, range=[0, W], scaleanchor=\"y\")\n",
    "            _fig.update_yaxes(visible=False, range=[H, 0])\n",
    "\n",
    "            display(_fig)\n",
    "\n",
    "    else:\n",
    "        # update in‐place\n",
    "        _fig.layout.width = disp_w\n",
    "        _fig.layout.height = disp_h\n",
    "        _fig.layout.images[0].source = _prep_background(bg)\n",
    "        _fig.layout.images[1].source = overlay\n",
    "        _fig.layout.images[1].opacity = op_slider.value\n",
    "\n",
    "        # scatter coords + hover (no legend)\n",
    "        sc = _fig.data[0]\n",
    "        sc.x, sc.y = cent.x, cent.y\n",
    "        sc.customdata = np.stack(\n",
    "            [cent.index, cent[\"cluster\"] if ch == \"cluster\" else cent[\"val\"]], 1\n",
    "        )\n",
    "        sc.hovertemplate = hovertemplate\n",
    "        sc.showlegend = False\n",
    "\n",
    "        # purge old extra traces\n",
    "        _purge_extra_traces()\n",
    "\n",
    "        # continuous‐colorbar\n",
    "        if cb_args:\n",
    "            _fig.add_trace(go.Scatter(**cb_args))\n",
    "\n",
    "        # cluster legend entries\n",
    "        if legend_colors:\n",
    "            for lbl, rgb in legend_colors.items():\n",
    "                rgba_str = f\"rgba({rgb[0]},{rgb[1]},{rgb[2]},255)\"\n",
    "                _fig.add_trace(\n",
    "                    go.Scatter(\n",
    "                        x=[None],\n",
    "                        y=[None],\n",
    "                        mode=\"markers\",\n",
    "                        marker=dict(color=rgba_str, size=6),\n",
    "                        name=f\"Cluster {lbl}\",\n",
    "                        showlegend=True,\n",
    "                    )\n",
    "                )\n",
    "\n",
    "        # show legend only for cluster\n",
    "        _fig.update_layout(showlegend=(ch == \"cluster\"))\n",
    "        _fig.layout.images[1].opacity = op_slider.value\n",
    "\n",
    "\n",
    "# Event wiring\n",
    "def _on_opacity(change):\n",
    "    _render(full_update=False)\n",
    "\n",
    "\n",
    "def _on_other(change):\n",
    "    _render(full_update=True)\n",
    "\n",
    "\n",
    "save_btn.on_click(_save_selection)\n",
    "op_slider.observe(_on_opacity, names=\"value\")\n",
    "for w in (channel_dropdown, range_slider):\n",
    "    w.observe(_on_other, names=\"value\")"
   ]
  },
  {
   "cell_type": "markdown",
   "id": "a5f48534",
   "metadata": {},
   "source": [
    "### Hyperlink: Spatial distance and interactions analysis\n",
    "This is a hyperlink to jump back up down to the spatial distance and interactions analysis section.  \n",
    "[Click to jump to spatial distance and interactions analysis](#Spatial-distance-and-interactions-analysis)"
   ]
  },
  {
   "cell_type": "markdown",
   "id": "fcfa21ae",
   "metadata": {},
   "source": [
    "## Clustering"
   ]
  },
  {
   "cell_type": "markdown",
   "id": "05f40a77-12a2-4115-bcbc-c7a222bde37f",
   "metadata": {},
   "source": [
    "### Select channels for clustering\n",
    "**Note:** If data was previously size-normalised it is recommended to leave morphological features unselected"
   ]
  },
  {
   "cell_type": "code",
   "execution_count": 8,
   "id": "4e85daa8-b8c4-4d3c-9d0b-83e3d1fc3504",
   "metadata": {},
   "outputs": [
    {
     "data": {
      "application/vnd.jupyter.widget-view+json": {
       "model_id": "038964aac78044448c9a6e673f576b6c",
       "version_major": 2,
       "version_minor": 0
      },
      "text/plain": [
       "SelectMultiple(description='Channels', options=('cell_label', 'Center_Y', 'Center_X', 'Area', 'Diameter', 'Ant…"
      ]
     },
     "metadata": {},
     "output_type": "display_data"
    }
   ],
   "source": [
    "cluster_channels = widgets.SelectMultiple(\n",
    "    options=filtered_df.columns,\n",
    "    rows=20,\n",
    "    description=\"Channels\",\n",
    "    style={\"description_width\": \"initial\"},\n",
    ")\n",
    "\n",
    "display(cluster_channels)"
   ]
  },
  {
   "cell_type": "markdown",
   "id": "2915e3a8-2083-4d59-b683-2c660d259a8a",
   "metadata": {},
   "source": [
    "### Select a scaling method (comment/uncomment)\n",
    "Standardize data values to bring them onto a comparable scale. This facilitates accurate clustering results. \\\n",
    "Two methods are available: Robust scaling and MinMax scaling \\\n",
    "For more information on data scaling see [here](https://scikit-learn.org/stable/auto_examples/preprocessing/plot_all_scaling.html) and [here](https://scikit-learn.org/stable/modules/preprocessing.html)"
   ]
  },
  {
   "cell_type": "code",
   "execution_count": 9,
   "id": "2a758c85",
   "metadata": {},
   "outputs": [
    {
     "data": {
      "application/vnd.jupyter.widget-view+json": {
       "model_id": "78cbb62a44ca45208a01f9af4a1f0e43",
       "version_major": 2,
       "version_minor": 0
      },
      "text/plain": [
       "VBox(children=(RadioButtons(description='Scaling Method:', options=('arcsinh', 'robust', 'minmax'), style=Desc…"
      ]
     },
     "metadata": {},
     "output_type": "display_data"
    },
    {
     "data": {
      "application/vnd.jupyter.widget-view+json": {
       "model_id": "a381cf246608452190350bd5fda952b9",
       "version_major": 2,
       "version_minor": 0
      },
      "text/plain": [
       "Output()"
      ]
     },
     "metadata": {},
     "output_type": "display_data"
    }
   ],
   "source": [
    "# Widgets\n",
    "scaling_output = widgets.Output()\n",
    "\n",
    "scaling_method = widgets.RadioButtons(\n",
    "    options=[\"arcsinh\", \"robust\", \"minmax\"],\n",
    "    description=\"Scaling Method:\",\n",
    "    style={\"description_width\": \"initial\"},\n",
    ")\n",
    "\n",
    "display_scaling = widgets.Checkbox(\n",
    "    value=False, description=\"Show head of scaled data\", style={\"description_width\": \"initial\"}\n",
    ")\n",
    "\n",
    "\n",
    "# Update scaling based on selections\n",
    "def update_scaling(*args):\n",
    "    with scaling_output:\n",
    "        scaling_output.clear_output(wait=True)\n",
    "        if not list(cluster_channels.value):\n",
    "            print(\"Please select channels to scale first\")\n",
    "            return\n",
    "\n",
    "        try:\n",
    "            global scaled_df\n",
    "            if scaling_method.value == \"arcsinh\":\n",
    "                arcsinh_scaler = np.arcsinh\n",
    "                scaled_df = filtered_df.copy()\n",
    "                scaled_df[list(cluster_channels.value)] = arcsinh_scaler(\n",
    "                    filtered_df[list(cluster_channels.value)] / 5\n",
    "                )\n",
    "                print(\n",
    "                    f\"Arcsinh(x/5) scaling applied to {len(cluster_channels.value)} channels\"\n",
    "                )\n",
    "\n",
    "            elif scaling_method.value == \"robust\":\n",
    "                r_scaler = preprocessing.RobustScaler()\n",
    "                r_scaled = r_scaler.fit_transform(\n",
    "                    filtered_df.loc[:, list(cluster_channels.value)]\n",
    "                )\n",
    "\n",
    "                scaled_df = filtered_df.copy()\n",
    "                scaled_df[list(cluster_channels.value)] = r_scaled\n",
    "                print(\n",
    "                    f\"Robust scaling applied to {len(cluster_channels.value)} channels\"\n",
    "                )\n",
    "\n",
    "            elif scaling_method.value == \"minmax\":\n",
    "                mm_scaler = preprocessing.MinMaxScaler()\n",
    "                mm_scaled = mm_scaler.fit_transform(\n",
    "                    filtered_df.loc[:, list(cluster_channels.value)]\n",
    "                )\n",
    "\n",
    "                scaled_df = filtered_df.copy()\n",
    "                scaled_df[list(cluster_channels.value)] = mm_scaled\n",
    "                print(\n",
    "                    f\"MinMax scaling applied to {len(cluster_channels.value)} channels\"\n",
    "                )\n",
    "\n",
    "            if display_scaling.value:\n",
    "                display(scaled_df[list(cluster_channels.value)].head())\n",
    "\n",
    "        except Exception as e:\n",
    "            print(f\"Error during scaling: {e}\")\n",
    "\n",
    "\n",
    "# Observers\n",
    "scaling_method.observe(update_scaling, names=\"value\")\n",
    "display_scaling.observe(update_scaling, names=\"value\")\n",
    "\n",
    "controls = widgets.VBox([scaling_method, display_scaling])\n",
    "\n",
    "# Display\n",
    "display(controls)\n",
    "display(scaling_output)\n",
    "\n",
    "update_scaling()"
   ]
  },
  {
   "cell_type": "markdown",
   "id": "5a0491b5-aa17-49d5-ae65-32413774c0a0",
   "metadata": {},
   "source": [
    "### PhenoGraph clustering\n",
    "\n",
    "For information on the usage and parameters of PhenoGraph please refer to https://github.com/dpeerlab/phenograph  \n",
    "and or read the corresponding publications: Jacob H. Levine et al., __[Phenograph](https://doi.org/10.1016/j.cell.2015.05.047)__ and V. A. Traag et al., __[Leiden algorithm](https://doi.org/10.1038/s41598-019-41695-z)__;  \n",
    "Before clustering, make sure you are only including the desired channels (see cell above);  \n",
    "  \n",
    "**Note:** Leaving the 'Initial seed' parameter unset will result in a random starting seed and therefore will lead to slightly different results each run"
   ]
  },
  {
   "cell_type": "code",
   "execution_count": 46,
   "id": "330cfb4f-be39-4d96-94ab-417028528358",
   "metadata": {},
   "outputs": [
    {
     "data": {
      "application/vnd.jupyter.widget-view+json": {
       "model_id": "dc6fc3245b7a466b9458fa273527275c",
       "version_major": 2,
       "version_minor": 0
      },
      "text/plain": [
       "VBox(children=(Text(value='', description='k-value:', placeholder='30', style=TextStyle(description_width='ini…"
      ]
     },
     "execution_count": 46,
     "metadata": {},
     "output_type": "execute_result"
    }
   ],
   "source": [
    "resolution_parameter_text = widgets.Text(\n",
    "    value=\"\",\n",
    "    placeholder=\"1.0\",\n",
    "    description=\"resolution parameter:\",\n",
    "    style={\"description_width\": \"initial\"},\n",
    ")\n",
    "\n",
    "k_text = widgets.Text(\n",
    "    value=\"\",\n",
    "    placeholder=\"30\",\n",
    "    description=\"k-value:\",\n",
    "    style={\"description_width\": \"initial\"},\n",
    ")\n",
    "\n",
    "seed_text = widgets.Text(\n",
    "    value=\"\",\n",
    "    placeholder=\"42\",\n",
    "    description=\"initial seed:\",\n",
    "    style={\"description_width\": \"initial\"},\n",
    ")\n",
    "\n",
    "update_button = widgets.Button(\n",
    "    description=\"Run Clustering\",\n",
    "    layout={\"width\": \"max-content\"},\n",
    ")\n",
    "\n",
    "output_widget = widgets.Output()\n",
    "\n",
    "\n",
    "# Callback\n",
    "def run_clustering(button):\n",
    "    global communities, graph, Q\n",
    "\n",
    "    try:\n",
    "        k = int(k_text.value)\n",
    "    except ValueError:\n",
    "        print(\"Invalid k-value. Please enter an integer.\")\n",
    "        return\n",
    "\n",
    "    try:\n",
    "        resolution_parameter = float(resolution_parameter_text.value)\n",
    "    except ValueError:\n",
    "        print(\"Invalid resolution parameter. Please enter a float.\")\n",
    "        return\n",
    "\n",
    "    try:\n",
    "        seed = None if seed_text.value == \"\" else int(seed_text.value)\n",
    "    except ValueError:\n",
    "        print(\"Invalid seed. Please enter an integer or leave it empty.\")\n",
    "        return\n",
    "\n",
    "    with output_widget:\n",
    "        output_widget.clear_output()\n",
    "        communities, graph, Q = phenograph.cluster(\n",
    "            scaled_df[list(cluster_channels.value)],\n",
    "            clustering_algo=\"leiden\",\n",
    "            k=k,\n",
    "            resolution_parameter=resolution_parameter,\n",
    "            seed=seed,\n",
    "        )\n",
    "        print(\n",
    "            f\"Clusters: {communities.max() + 1} \\nModularity score: Q = {Q:.4f}\"\n",
    "        )\n",
    "\n",
    "        # update filtered_df\n",
    "        filtered_df[\"cluster\"] = pd.Categorical(communities)\n",
    "\n",
    "\n",
    "update_button.on_click(run_clustering)\n",
    "\n",
    "# Display\n",
    "widgets.VBox(\n",
    "    [\n",
    "        k_text,\n",
    "        resolution_parameter_text,\n",
    "        seed_text,\n",
    "        update_button,\n",
    "        output_widget,\n",
    "    ]\n",
    ")"
   ]
  },
  {
   "cell_type": "markdown",
   "id": "81d94a35-bdd6-45d7-a54f-e23493eec411",
   "metadata": {},
   "source": [
    "## Dimensionality reduction using UMAP\n",
    "Run and visualise UMAP embedding;<br>\n",
    "Default settings for UMAPs hyperparemeters are used. If you wish to finetune UMAPs parameters, uncomment and execute the collapsed cell below. <br>\n",
    "For information on the usage and parameters of UMAP please refer to the documentation https://umap-learn.readthedocs.io/en/latest/index.html<br>\n",
    "and or read the corresponding publication: Jacob H. Levine et al., https://doi.org/10.48550/arXiv.1802.03426;<br>\n",
    "<br>\n",
    "**Note:** UMAP will be excuted using default parameters. To set a random state (for reproducible results) or change other parameters, uncomment the code below line 5 in the cell below and edit the parameters."
   ]
  },
  {
   "cell_type": "code",
   "execution_count": 40,
   "id": "3b71de42-013d-4c7f-b074-fe09726450af",
   "metadata": {},
   "outputs": [
    {
     "data": {
      "application/vnd.plotly.v1+json": {
       "config": {
        "plotlyServerURL": "https://plot.ly"
       },
       "data": [
        {
         "customdata": {
          "bdata": "AAAEAAUABgAQABIAFQAWACQAJgAzADcAOwBJAEwATQBRAFgAWQBiAGYAdQB8AIMAiwCMAI8AmACbAJ0ApQCoAK0AugC7ANsA6wDvAPYA+AD8AAQBCQEKAQ0BDgEQARUBGQEdASABJwEqASsBMQEyATMBOwE+AUIBQwFGAUsBVwFaAVsBXgFfAWEBYwFkAWYBdgF4AYcBiwGQAZgBmQGdAaEBpwGvAbABuAG+AcEBxwHYAdkB3gHrAewB8wH8AQUCDQIaAhwCIgIlAiYCJwIoAioCMAIxAjcCPwJBAlYCVwJeAmoCeAJ9AoEChgKHApMCrgKvAskCzQLUAvIC9gITAxkDIwMvA0IDQwNNA1YDWwNkA2sDbgN8A4IDjAOXA5oDmwOtA7IDugPOA9UD4QPlA+YD7wP+AwUEEAQRBBkEHAQhBCgERARcBF4EZQRyBH8EgwSXBJ4EnwSlBLEEuAS5BL8EwwTTBNQE1gTgBOME5AT1BPcE/AQABQEFAwUIBRIFHAUrBS8FMgVBBV0FYAVwBXMFewV9BY0FmwWyBQMG",
          "dtype": "i2",
          "shape": "207, 1"
         },
         "hovertemplate": "cluster=1<br>UMAP1=%{x}<br>UMAP2=%{y}<br>index=%{customdata[0]}<extra></extra>",
         "legendgroup": "1",
         "marker": {
          "color": "#636efa",
          "symbol": "circle"
         },
         "mode": "markers",
         "name": "1",
         "showlegend": true,
         "type": "scattergl",
         "x": {
          "bdata": "yk70QF/O/UAjpPNAjtgFQTsL8UBzKwZBniUIQfK0+EBXUAZBRhu6QBj43UDcSfFAYOHdQKpkAUGt1vpASv/yQHQgBUGmvvlAR4X3QNQyBEEuObxA/Ho3QQn6vkCFvddAv0HCQJGaw0C3ighBnZAUQebuvEBO8gRBpbf8QCkcBUFLghRBZoQaQVxpzEBElb5ArP3ZQPhVAkHTjghBa2cBQe8a8kCV/fpAx9r7QH4TBUH7+blA2/X+QHZ45UBdqtpAeLbWQF1H90C4ANtAZzD2QE7S9EChM/1AuiHsQB7NAUGB7QRBDyX+QFrR4kCnrwFBf3E8QfYn0UD8yPVA1xDKQEqP50DFA9lA7r/oQH9n9EB+V8JAJw33QLHCCkFm8vdAh8MPQf1J8kDM2fRAdhDyQC793ED1QwBBNTv4QOb09EA8PdFAdS7yQME59UCbguBA7QHOQID/8kA7BgFBL2ryQKG99ECvZM1AXwP1QG3ixEDKrexAOSP/QKt5v0DEuvJAXGz5QPZv00DTg+JAupD1QIsf/kACzrlAiYMFQfMnzEDq3wtBFr/yQDBg/0DhJQFBjjILQXd0AEFtzvBA5+f0QP0Q/UAv7fBABKTwQObD+0Azn7lAMuj/QP9710BKYtdAdbATQRXE+0ACOetA/asDQXYo8ECLruxAxLfmQLe1/0DtsPBAprjvQJmC/ECaVeBAyRXzQJ+YvUD6ovpAvwMCQYGV70AYSwBB5ysAQQIx/kAPdvNAZ/vXQIl290DpgP9Al8D4QPJl/EDcovRAo48AQV8c7kDkoQlBjH7lQDhj20AZDOtAokq+QJmW70B4PPBAqIkBQXcg70CW5e9AFwHxQGddCEG+6vNAFc7vQEeow0AgAfBAUnIIQcEG90DzRgNBjsDvQIXIAEF/tQpBjigKQRop8kBHmO5AMTfyQETk90A7f/hA5uTvQGSBCUGS1PFAE8jrQE+DukCwAgtBZn/xQIbCBUGYlgpBhw/zQKWMAUENAwFBSr0KQUVk90AeO/dA8Ev3QJWdBEF3UPRA03v/QN+oBEHVLQpB9MH8QLhH/EB0DwZBr34jQRD+AUG28vdABBy+QHhtDEHo6ghB",
          "dtype": "f4"
         },
         "xaxis": "x",
         "y": {
          "bdata": "Hd1AQdN4OkHnszhB8Y4uQRVQOUG+Qi5BJlU8QQ5hO0FTdD1BQREsQfXDLUGmQz9BPqQtQa+8N0En5zxBbQY/QfMdKUGBOD9BoIg5QVpnIUHaQi1BXPwyQb4GK0F85itBp64sQQ6KLEHsADBBUPkiQXDeK0FPpjNBcLo/Qf2xNUFG/iJBhFkzQfcHKUGG7CtBGNwjQTgXQUGWsDhB+WhBQVO3RkGDOUNB3eNAQQcwMEEifixBbIVBQdZaLkHBwiNBcVIvQbRIQEEJiS9BouU+QQr+O0HegjpByA09QUWxNkF+IC5B98gtQeWhLkFXbzRBUVc6Qa2mLUEHdypBcVktQevsMEE0cy9Bkes4Qa1rOEG2nixBvTtBQRfgLUGgizFB7IUxQZtHLUGxkjVBQqVNQaIXL0GtMEhBFM01QQEpTkG/TC5BS2VNQX6XTEETySxBvlgtQb4VTkFQJytBzF9NQSrqTUF/fyxBuIs1QUclK0Fd1CxBSdhIQQVEK0GWoTxBwf0xQReWKkH+bjJB0HkgQfqvP0ELWyxBQbksQZHYLEELXS9BqlRNQbcBLkHzjTdBq5cwQZydLkHbz0xBTFcsQWVfREFCxilBQg1MQaEaR0GkRixBUHs0QeJWJkFLeCZBkLIiQRvwSEE2DylBJRYyQVcTS0FMiDRBPIM3QQALLEH6d0ZB1VM1QYI9OkE+6i9BKGonQbMpK0EQykJBB440QVR5NUErcDVBFIVIQYONKkGr3kxBHcgkQZHyLUFMZEhBe4pJQRJwOUFbck1BXJNGQaszJ0F0AjlBSYssQWYOI0H7WipBu6YrQRE0R0GZkjVB1XMqQaGaM0FkfUBBJXMvQQq7O0EuBCxBlElCQdwMLEEfLDBB6pgxQWHaI0HRVUFB+3RLQXX5NkFICTlBc+U5QZ9cOEEOVkRBcX8mQRmvL0GsOSxBja5EQedJOkFmNkFB79IsQUhZLEFkujlB9pItQSrvL0GuXzlBtlArQe6IOEHxlzBBPgI5QeByI0HiPEBBA3E+QfGjQEFgA0lBKvExQUvuQEEaNzVBE/svQTquN0HSQTxBuTs6QeDqQUHgOiNBiJkrQf36MEFyHzJB",
          "dtype": "f4"
         },
         "yaxis": "y"
        },
        {
         "customdata": {
          "bdata": "AQALAAwADgAXABwAIAAiACgANQA/AEMARABGAE8AYwBoAGoAbQBzAHYAewCOAJIArgC4ALkA0wDgAO4A8wD6ABsBKQEwATUBOQE9AU4BTwFWAX8BhgGKAY4BkQGcAaQBrgGzAbQBtwHGAcwB0AHfAeAB4gHnAe8B+QH9AQACBAIIAgoCDAIQAhUCHgIfAiQCQAJPAlQCYAJkAmgCbwJ/AooClQKZApoCwgLIAtEC1QLbAt4C7AL4Av4CAQMDAwYDBwMRAxIDFwMaAxsDHQMeAycDKAMpAysDLQMuAzADMwM0AzcDOgNAA0UDRgNLA1IDUwNUA1cDWQNmA2cDaQNtA3QDdQOAA4MDhQOPA5MDngOiA64DsAO5A7wDvQPCA8UDygPaA94D6APrA+4D8gPzA/QD9gP8AwIECAQNBBQEFwQjBCYELQQ3BDgEPARBBEIEQwRKBE8EVARVBFsEYQRiBGkEbwR0BHUEeASCBIQEhgSHBIsEkQSTBJYEmQSgBKoEzATPBOsE7ATyBP8ECwUMBRQFHQUhBSYFKAU1BUAFQgVPBVAFUQVeBWEFZAVlBWcFbwVyBYIFigWMBY4FkAWXBZoFpAWnBaoFrAW2BbgFuQW7Bb0FvwXBBcQFyQXMBdEF1AXVBdoF4QXnBekF8gX0BfUF9wX4BfkF+gX/BQYG",
          "dtype": "i2",
          "shape": "255, 1"
         },
         "hovertemplate": "cluster=0<br>UMAP1=%{x}<br>UMAP2=%{y}<br>index=%{customdata[0]}<extra></extra>",
         "legendgroup": "0",
         "marker": {
          "color": "#EF553B",
          "symbol": "circle"
         },
         "mode": "markers",
         "name": "0",
         "showlegend": true,
         "type": "scattergl",
         "x": {
          "bdata": "AFErQax5OkGDTDlBv3UyQUONK0GPBzlBXq83QZshOUEVWCtBZ5REQQf5JEEoSjVBdOQwQYLOOUHPWTBBotk3QVuIMUEYgiNBHMMhQaCaNUEntzpBdhI0QSgWMEGyai1B4aExQXoiJkGjWyVBei8vQfPWK0FhATRBqjkrQVrPI0FImjBBpvdHQXVERkHu3SlBxO9FQeFrKkEJ5TFB5vgtQfDNJEFJyyNB0Hw+Qe48NUEo/zBBkP0zQQGtIEEzPhtBybolQdGrJEGHWURBDVErQYi0K0GBnEhBQ2wzQTsONEEEizRBOR4sQWD3JkFVnjRB8zIxQfDvL0FVqD5BdLwjQVs3SEEwY0hBqzwwQcwTOEFdATVBUyk4Qck8LkF9HkFBvYI0QWjhNkG3SzJBzBU0QT4QOEHG6TJBwDwuQXKfLkFKGktBfmUkQbYPPEHSFktBelo+Qfu4MEG7y0NBB70sQS6CI0G1wSFBrTU7QajHN0HW+j9BC9ooQUTIS0EbxSRBvHQpQRbMS0GeTD9BTWBHQUMGOkFBOixB72Y4QS7iS0E+6jNBDYsmQbSuLUGVSy9BwDg5QUnrJUE5pyhBL+8fQSmaSkHYrypBRb8oQTobNEE2JC1B1YAiQe1gIEGj/0hBRdEzQTUoMEEbcUxBFHpEQYzxSUEq3DJB56pJQRjoO0GMAStBVqBLQbpMNkHDWShBC5knQZbpJkEKA0lBhigyQZsYKkGQxj9BJypIQU/VS0Hu9xpB6XhJQbJSSEH+UxtBYFgoQQRbI0EmYj5Bbxg2QaBKQUFoyEtBEC1KQQWLOkG8kjlBO40jQex3KEFb1y1BDW4cQY85M0HrpSJBjrNHQcD/IEEsthxB5bc4QYXzJkGTnkNBsgwtQQHXIUE3ajdBDiFIQQxEJUFl5zBBxr4pQcA5SkEg1UdB2UYzQb8mL0EToUBBxJQiQTgTGkFQ9y1BHog2QUEKKUFFPihBTC8mQYPoLEFfHS5BAbksQUTMQEEYiDdB9UQlQQ7DPkFutzpBqFYyQZgcLEEl1zVBl5gzQUNYLkFZDkpB5ClBQQYFMEFZuDtBafRAQWRdN0HocilBFTAyQWNiMUH4GBhBqkMuQUENL0HVXjhBddkuQfxaPkGrRkBBxDYnQdSFQUGulTJBAwRCQTHWHUFgRBtB365BQV87MEGGQixBAYYJQUI9PUER+j9Bn7U5Qb8JMkGXIj1Bf2Y4QYfTNUH54SRBrrg+QXNSPUGy9jhBJ4QtQfO9LUEzq0VBjC4tQW2GJEG1ZDNB3OI9QSwHM0EFvTxBOvoqQcMzREEl+0dBtJs7QRa1KUFZzDpB9eA8QaKMLEE/pT5BwRUmQVpmLkGQuTZB",
          "dtype": "f4"
         },
         "xaxis": "x",
         "y": {
          "bdata": "5tcuQCGjZkABJTNAj0WrPya0V0CRuIhA8Mg3QOauWkDNVxlAfBwgP5oUY0BK+DFA4crKP+mPS0DFPaI/zD87QAXgWEA639c/hMJcQA32qz/j7FJAnCigPzh7uT/95QJASXcIQDbE7j9AWPc/hs+hPzO1EED86AZAzU/9P96A5T/PtzRAf0q8P/JTvz+s6jVAll9NQGzcA0DPS0NAG//4P8TK5T9Fil1ADZUmQI1JSkCOqUpAc1o0QMA58z/Q+Ow/WC9LQLrVYUD3dlhAdtsrQICzLUAqhp8/Jk2aP38IOkBTzG1AyV9aQKqyYEC1ElpAA4lTQGLzVkC3+TxACULiP373SUCo5JM/H0atPyWS4j823FVAHMIGQHUSL0DlzS9AV83OP3vWJ0CDObA/4U24P4rrJ0AyL1RAZlVoQKnbIkBgxsw/VOJiQKDkYUBK+9U/m9c6QCJzwT/p5cc/ZJbiP///XUCc9A9AnOQ8QOi5DUAkMF0/DdJaQPMpvD9F/Os/XnJeQP1Uuz9iFy5AGDFGPxtbWkDLuXdAF8kqQH49yz91MDtAY8VeQA8Cxz8Ndj9ASURFQNTPWkDol15AneIJQAchzz+74h1AuQ9UQP7fH0BrDWFALuFjQJM1X0AK8sc/7fsdQDKo9UCdVrw/UxS4P+Ftwj//FgNAVWqOPygWREAO+4RANMDUP6rAa0Bwo19AcawgQLba/z9s+tc/r0r+P4VIFkDlZCBAc7CZP2Yn2T/4SxtAy+2kPz34lj+3+Q5AdyT6P/pHB0A19DpAVdZ3QNOWYkA8b88/FMmsPwlkQUAdAjZARmj/PwEAT0AaoQ1AQOzvP9qHTUA89F9AD9zSP+tgY0CPIlpAfIQQQIZu8T8F7VdAgL9IQOL/YUACCURAa0GTP72eQEAMLTBAJzOIQNVuzj9tepo/jDQiQHa4nj8XZERASD0QQG/x9z8ByqQ/d1bWPwO4PkC3rCJAHCRhQE2TC0C+kKk/EPwtQJ4yNEDgGro/tw8mQD/WP0DoFiFA+XsJQImpL0BuYr0/WcYSQBo4B0BAGdM/9yhFQHSBCUCFyTNArQBVQMyFVUAIFQJAqHgtQCu/7j9j0fw/nyZIQLgZCkAIRTZA8x+kP6LiF0DfmytAiHpkQAZkMkDcn8M/GGQ2QAxpE0Bgkg5AVgk5QFBZF0Cx+xJArFYZvi6TDEAfbDVACjaNQK6B7z8LbA9ARSz8P53zuz/0719A8Zo4QOaSEECOqlVAy+IIQCDvvz/Ib0pAhEsRQGZH8D/wef8/RsVaQI3Ykj8py0xAaV4eQMhMSEAUY6o/asJHQNdAhkDcBQJAekRAQNydEkBSNBlArrEhQHx4DUACADZA",
          "dtype": "f4"
         },
         "yaxis": "y"
        },
        {
         "customdata": {
          "bdata": "AgAHAAgACgAYAB4AIwArAC8AMgA4ADoAUwBcAF0AYQBuAHkAegB+AIEAggCEAIUAhgCJAIoAkwCcAKQAqgC2AMMAxgDWANgA6QD1AP0A/wACAQMBCAEPARcBHAElASYBOAE6AWgBdwGBAZIBkwGgAaUBqwGtAbIBwwHFAc0B5gH4AS4CMgJJAlgCWwJhArECtAK4AsAC3ALpAuoC9QL3AvsCCQMMAxADFQMWAyIDKgMsAzEDNQM8Az0DPwNPA1ADUQNYA1wDdwN5A3oDewN+A6EDowO4A7sDwAPGA80D0APTA+wD7QP3A/oDAAQBBAkEHQQyBDQENgRJBEsEUQRXBFoEZARsBHMEiASyBL4ExQTdBOgEFQU0BTgFRAVNBZYFogWpBbEFwgXDBc0F1wXoBfYFAAY=",
          "dtype": "i2",
          "shape": "154, 1"
         },
         "hovertemplate": "cluster=3<br>UMAP1=%{x}<br>UMAP2=%{y}<br>index=%{customdata[0]}<extra></extra>",
         "legendgroup": "3",
         "marker": {
          "color": "#00cc96",
          "symbol": "circle"
         },
         "mode": "markers",
         "name": "3",
         "showlegend": true,
         "type": "scattergl",
         "x": {
          "bdata": "99YJQUwoBkFD+ABBtrsDQXiS9ED//ghBqVoCQbFPCEFvqQJBv7YJQeSCEEFXTwNBSTgGQQnFBUHet/RAAJwKQf6wAkEkZQtBGskOQd4pB0E7jhlB5JQTQQ5uAUHFDQtBrdACQetwCUEthSNBHh8JQSCUGEGe9wlBoKgBQZg5A0HEZhRBFPwDQTiHE0Gx+vRA0xMDQerNCUHsQgtBfy/6QPGYJEGMWARBU7D/QLDcFUEIvQxBXsYdQSlrCkH4shpBaBsLQamUFkHPSxBBy8gEQbI1AkHb4U1BT1cMQbH7+kCcSg1BTf0JQZZj80AF3RVBuaUDQXfTRUFYlx5BlbcgQbUWBkFlihtBqzsIQZiPBUFV8hBBwywbQZUkB0EAMQBB9nP7QPgwAUH5IwFB3R0eQdheP0F1oBNBmyQoQeooE0G0GwhBWGcQQYbhJUEAiPpATnEWQWKEAUEoKQFBYjsFQbOEAEHJrfJAwx4BQZvBH0GXPhBB1hlNQdGn9kAIAhhBEVYcQXuy/UBrl/dAL8ENQVq5+UCik0JB0gQJQWlVAEExwBRBi1UaQal+BUE0RPVAEd4LQfXwE0GXAgFBM9QSQdF69EBw0hNB8HgIQVLbFUHg/gpBNpYAQRBbAEE+URRBl34PQb9pDkFWqQRB9qoTQTZt/kBbPvlAF0r5QGgYFUFJQ/pAaCj7QKx/EkFJlAFBryAbQZKqAUFRiwRBxTgSQU1sGUF9WxNBSToPQZXsFEHVfvtAtQ8YQWLQDUFB9xJB+u4NQRotF0HPhQJBxlQVQfaaEEEshRBBbdkSQTp1EkGE7RRBfC4UQQ==",
          "dtype": "f4"
         },
         "xaxis": "x",
         "y": {
          "bdata": "3r5BQBsJPkAfGktAFccDQHPBCEAl+ANAabUBQDaSAUAP/rc/0zEIQBe1rj/vDeg/U1zLP8XBUkDtqgpAij4BQFgq9j9XePQ/EH1GQH4gVkAWPus/1A6yPzXgTUAmnVdAPn1MQBM3YUBMtaw/5N22P2dPqj/bml5AaoT+P+5w+z+yfLs/fUACQOKIxT+VYwpA1PLwPxiJvT/Y8AhAnUkNQJq6rz9fWbw/KlQdQO2OuT+uhAJA7arPP+UmAUAZ3OQ/NA49QEnisT9RPas/8sm8P46nuz9Opt5AYa38P99PE0AlyAJAamG/PzH/DUCsdFZAJ8LKPyNVlz+VG9Q/ilXHPzPh2D+YEK4/pPhVQBbCD0DVBVpA5sDcP5SGtT9k1C1ATDARQM6f/j8Usi1AdRCqP4hUKT9Wr1ZAi++FQPwBVUBbSwdABiasPySgCEFfYyBADejAP5CFTED3mh9Aw1gAQAywF0AVlxJAyx9OQFM48T9k6k5APfneQFWxC0Cow1NA1BHcPyWTGkDnnwRAGkXkP158A0CMDRE/1IIuQHloM0AzmL0/EKKoPy1t0z9ULBZAYyP4P/JTO0BAWfo/MhZOQOnIDkBAxlVAsEG7Py4IUEBWDQVA0/7gP6rGNUCpYVBAV/3rP4YuV0B/UPU/TZBJQP8C8T80zxxA3mQZQMhSJ0D/ZBFAHa8EQLbmWEATGE5A7WKrP8uoTkAX6uM/LM6qP1FaTUBqScY/IAHIP2PoT0D65vU/9kDkP4ID8D/FlvE/YjnGP66RH0D/e9M/r9dQQKJ6tT+Varc/ugq9P8u4CkDp8SNAKKj1Pw==",
          "dtype": "f4"
         },
         "yaxis": "y"
        },
        {
         "customdata": {
          "bdata": "AwAPABMAGgBBAGUAlAAjAVMBcgGfAaYBrAG6AekB8AH/ARsCNgJGAkcCUQJ0AnwCjQKOApQCoQK3AswC0ALlAugC7QLxAvQCCwMNAxgDJQMyAzYDOQNBA0gDSQNOA1oDXQNhA2IDaANqA3MDhAOKA4sDlAOWA6ADpQOoA8wDzwPUA9kD4gPnAwMEFQQWBB4ELAQwBEwEZgQxBVcFxwXKBdsF4wX8BQ==",
          "dtype": "i2",
          "shape": "83, 1"
         },
         "hovertemplate": "cluster=8<br>UMAP1=%{x}<br>UMAP2=%{y}<br>index=%{customdata[0]}<extra></extra>",
         "legendgroup": "8",
         "marker": {
          "color": "#ab63fa",
          "symbol": "circle"
         },
         "mode": "markers",
         "name": "8",
         "showlegend": true,
         "type": "scattergl",
         "x": {
          "bdata": "OUdSQdLBUEGCplNBNmVOQcHHS0EJDVBBBo9PQYmaSUFlilJB2O9SQWDxTEEp609BHKFQQYfGU0EkiE5BsQlTQQrhUEHvW09BjjFQQVLiTkGBcE1BlQFRQX7iUUFhAU5BTa5JQdPMTEGTYlJBcqxTQboHVEGbDFJBwvFOQWs5UUHk6UdB/rBMQcLHTUH5S09BvV1NQTOzT0GPy0xBmg1QQRSoTkFexE5BFRVQQcenT0FQMlBB6ctNQbvyUUE2UE1BKyNMQYrxTUGJcE9B/P5AQb8gT0EMj0tBfEdPQRnETkGd101B+YxNQYCFTUHMvE1BpWVQQUH7TEHrNE1BXUJRQSpaTUHon0VBMYxLQfB5TkFS9k9BQj5NQaCFTUHfS1FBHPxNQUyvTUGi01JBEudSQajiUkHLyU9BvC5NQWI3UUFqUVBBBp5MQUh/T0E=",
          "dtype": "f4"
         },
         "xaxis": "x",
         "y": {
          "bdata": "hZMMwMeQw78HrhHAgnuxv/qJ+b68PsK/93bov2N6E77tcw3Ai3QOwDQ8YD151ei/SnTIv835FMBe+rG/pJEQwBbhu78m3pq/JZbNv1NuZb9YczO/S5u7v6vcCsBfjk6/KtjkvRZO7r4+Cg/AMDQUwGd1FcBvXeW/u82zvzwMBsD0BSQ/Dtz/vqYmpL/OBfG/4c+Kv9uYkb9Kkps9We/6v/CvpL9/kbG/IFjuv59Utb8x8/u/Zz6av/Bf/L95dEW/dR24vtZzSb/sPeu/ENCCQJVt2r9xwbm+Lpi6vwVz6b91HTW/MIE4v4Z3Kb8G+iy/OOTtv9XHgr2sYBG+Vsrrv0O3Xb5VkIs+b3ozPwhqXr9iV72/3+woPvY3nb9Hg9q/wUJuv2s0I78HVQ7A1c8QwNljDsBJara/LynTvTU+w7+Yc6O/b6eKPmSCkb8=",
          "dtype": "f4"
         },
         "yaxis": "y"
        },
        {
         "customdata": {
          "bdata": "CQANABQAHQAfACkAKgBHAEgAXwBpAIcApwDLAOEA5wABARgBRQFJAUoBggGMAY0BvwHCAcgB0QHUAdcB6gESAhMCFAIzAmMCawJxAnUCdgKcAqACpwKoAq0CuwLOAt0C4gIFAw8DFAMcAyEDOAM+A2UDcAN9A5ADqQOvA7EDtQPJA9YD3QPfA+AD4wPwA/ED9QP5A/sD/QMKBAsEDwQYBB8EIAQpBC8EOQQ7BD0ETQRQBFMEXwRnBGsEbQRwBHEEdgR9BH4EigSMBI0EjwSVBKYEpwSzBMIE2wTvBBsFLQVGBVQFXwViBWgFeAV/BYcFiwWSBZwFngWhBa8FsAXQBesFAgYLBg==",
          "dtype": "i2",
          "shape": "131, 1"
         },
         "hovertemplate": "cluster=5<br>UMAP1=%{x}<br>UMAP2=%{y}<br>index=%{customdata[0]}<extra></extra>",
         "legendgroup": "5",
         "marker": {
          "color": "#FFA15A",
          "symbol": "circle"
         },
         "mode": "markers",
         "name": "5",
         "showlegend": true,
         "type": "scattergl",
         "x": {
          "bdata": "d9xgQaeVd0G/wG9BtopjQT4geEFSVW1B+qNuQUFXdEFKYXRB8zJ4QWKLQ0Gtq3JBeFR2QUVXeEGyZVNBCvZTQWPRUkEdHXhBpZprQToQd0FXE2RB1oxUQSr3UkGnuFFBryBRQeByZ0EWtEVBbT5QQR5JZUGY7DlBGHI4QVk8JUGHjU9BjtJQQRKUakFcZ21ByPFzQeY6akER9HVBJg1yQT+6WEH7BXhBqVFTQTsoa0G240pBdF1bQU99VUGRXFRBGgRrQdbFX0GYpDlBD4p3QSwGdUHvtEdBzH5hQfWzVEGatXRBVkx1Qar4XUE4EGNB6HBjQYN1eEGan2RBzD9iQVRnYUFue01BrclUQV0rUkGQElJBTV5jQbJXZUGWSDpBm+phQed6YUFja01B/W4yQaNOUkE6PFNBoWtTQUwUS0HERFRBoh1CQdaxTUGX2D1BjIFRQdcBY0E1B0dBZidHQWDdVkGxvUxB4q9hQQ2YaEGivGJBbi5PQV2uXEGgWyRBZzhnQY08YUGgSWRBeZ14QQYcJEHxkmVB9MA/QfFhXUG7CFRB5lVLQV2PI0HxDz1BGxZIQaluQkEuZExBRnd0QZqMQEEF+HBBPRZ3QWySaUFZJlVBF0dqQSWjV0HlrBlBMURJQWG2FkGtanNBV85pQaqeQkGlOkdBEi4iQaIockH8TldBOPpUQXeBVUE=",
          "dtype": "f4"
         },
         "xaxis": "x",
         "y": {
          "bdata": "inPNQMks5ECbw9pANGPVQEMp5UAWOdpA+qHeQOaW30AK8N9AYpTlQFtd6UAP3t1APuPiQEd05UDK1utABxS8QC1N60CMZOZAW3bXQHbn5ECzrOVAeG7gQJln3kB7h+dABFXpQHxT2kBH2e5AeSfjQAZJ50DKY5RAXtiLQAtPI0F60u1AErriQLOF1UCkEdhAdaTfQE1F2UAUF+JAsBPeQI+KxUDrK+VAdWy7QF+C3UATMPBAd/LJQOAUv0ClcLlAKR7dQK8pzkDEXJJAiGDkQGMN4UDaXe9AaazOQDlJwEC6vOBA5S/iQJP20UBW89NAxSHUQOer5UBn3NBAqQ3PQHQMzEDpde1ATILhQBKV50A1d+1AxBzXQG5k10C9g45AwVbRQGlk0kA8me1AYC8BQQ194UDrcupAHWjrQE8470B9n7xAF57kQLEK6UBfzvJAVyPuQHPjz0BSmvFAwUvvQDzNwEB5pe5A3YTNQJnM2kBfR89AsfvtQB9oyEAmVSNBGxfkQGPbzUBQ2tVAkynmQPZ5I0HEZdhAX4buQHfC1UBzOrxAVb3sQEI0JUEn3vpAYWfyQGwD+EAtRu9AOp3fQF8P60BnFdxAiljkQLK21kCj571AfSPVQCvwwUBlbCdB+mHyQM+xKEGNGN5AdN3bQPet50D8su5A14knQWGT3UDz879AUNC9QCyovkA=",
          "dtype": "f4"
         },
         "yaxis": "y"
        },
        {
         "customdata": {
          "bdata": "EQAxADwAZAByAHgAtQC3AOYAFAFQAZoBogGoAbUB4QFdAmIChQKlAg4DJANMA2MDbAOmA7QDxAMHBA4EJQQqBEcEYAShBAcFGAUuBT8FQwW0BdIF",
          "dtype": "i2",
          "shape": "42, 1"
         },
         "hovertemplate": "cluster=10<br>UMAP1=%{x}<br>UMAP2=%{y}<br>index=%{customdata[0]}<extra></extra>",
         "legendgroup": "10",
         "marker": {
          "color": "#19d3f3",
          "symbol": "circle"
         },
         "mode": "markers",
         "name": "10",
         "showlegend": true,
         "type": "scattergl",
         "x": {
          "bdata": "/IQFQXw9AkGNnwVB34IHQRkmAEEomwRB7igDQQk1C0FC8/lABm0DQc73+UDDRfpADsD4QKSiBkGmQQFB4yP+QD46A0FaYABBGwAHQe0sCEFclQBBtb76QDFg+UAuQAZBxoQCQWsAAkFBiQdBAgcBQdsaAUHd5v5AArH5QDI1B0EU6vtAMqf5QAeq+UBGGQNBaa4GQTRIAUGfeAlBNEIFQfqlCEHimwJB",
          "dtype": "f4"
         },
         "xaxis": "x",
         "y": {
          "bdata": "u1qwvoRrGL9ZgdO+JayXvlQ6N7+96vC+9YgMvwrcjD38ZV+/c0MIv3ETYb+GOF+/g/1pv6Tvsb6jiCe/YgBFv8HvCr+vDzG/S9OlvlI6gL4cmTG/5WxYv4mAZr8oLL++vHwUv5BuHb+pPpC+jmIqv1V6Kb/N+T6/ggdkv5GVn75wKVK//8Fjv94BZL/J+wa/2CCyvr9OJ78mUy++pyXavozzRr4XSxW/",
          "dtype": "f4"
         },
         "yaxis": "y"
        },
        {
         "customdata": {
          "bdata": "GQAtADAAOQA9AD4ARQBSAFUAVwBgAHAAdwB/AJEAlwCfAOoAEgEeAR8BKAEsATYBPAFAAUEBRAFMAVEBUgFUAVgBXAFgAWcBaQFrAWwBbgFwAXMBdAF5AbsB9AEZAjgCPQI+AkUCSAJOAncCogLBAt8C4QIEAwoDIANEA0oDVQNeA3YDeAN/A4EDhgOJA5IDlQOcA50DnwOqA7MDtgO3A74DvwPDA8cDyAPLA9sD3APkAwwEGwQiBCcEMQQ6BD8EQARFBEYEWAR3BHkEgASBBIUEiQSQBJQEmgScBJ0EqQSvBLAEtgS6BLwEvQTABMYEywTXBNkE3AThBOcE6gTwBPME+AT5BPoEBAUFBQoFDwUTBRYFFwUaBR8FJAUlBSkFLAUwBTMFPQU+BUUFSQVLBU4FUwVWBVkFWgVjBWYFagVrBWwFbQVuBXEFdAV6BXwFgAWBBYMFhQWGBYgFiQWPBZQFmAWZBaMFpQWtBbMFtwW6BcAFxgXIBcsFzgXPBdYF2AXZBd0F3gXiBeYF7AXtBfAF8wX7Bf4FBwYJBg==",
          "dtype": "i2",
          "shape": "206, 1"
         },
         "hovertemplate": "cluster=2<br>UMAP1=%{x}<br>UMAP2=%{y}<br>index=%{customdata[0]}<extra></extra>",
         "legendgroup": "2",
         "marker": {
          "color": "#FF6692",
          "symbol": "circle"
         },
         "mode": "markers",
         "name": "2",
         "showlegend": true,
         "type": "scattergl",
         "x": {
          "bdata": "gC0PQX05FEEOrBpBP14LQQWFHUEtNQ9BmVELQa+9E0EIhxBBcRccQfamCUGY5whBtGwdQQy8I0HTThVBHW0lQTObGEG1hx5BpgoEQVVTNkE40ghBM0IKQXr0CEGZmBFBBYgIQYvJBEEtdQpBK4UhQUHjC0EFhxNBemkCQUvBDkGNjApB3XMKQThLBEGFcBNBth0NQR+0EUEKHA1BpwAbQeD+DEEyRxVB9iEJQQteMUGImxFBaUoDQZqyDkGm6xFBf2QVQdexIkG3cBxBzc8ZQRVwDEGcWANBN48FQX1IBEEBwPxAYsooQSDOBkEm9w9BxW4TQTjLL0HPjS9BL14sQf2dDkFlNTBBJH4CQRRv/0BeRC9BFfouQVodFEHuUhJBA4gQQVfEE0F+qA9BIBgQQaeFAkG1SwJByNQRQW4LBUHXmCtBOpoIQY6jCUFyzi9BuZULQQx2CkEF7ylBFKASQdDQL0GYkQhByP4vQcy0DEHkVR9BfWQSQeK4DUHahwpBWRIOQc+WIEGdVRJBhfgTQQTrN0Hn9x5BzDMGQbGXEkEaVSBBUlobQbntAEHL2Q5BMAoSQTyyGUFYyjJBx28aQQv5EUHXpBFBhvMDQduzAkHXCQJBBykCQQe3AkE+cwpBq3sRQb0hDUGqHwpBag0GQeMCEkHyaC5BRAwYQfljE0HmdABB4IwEQZmoCUH3ShNBjasTQY+KE0F8ewZBW5sIQU3E+UCDbhFBZLcJQRfMI0EwPANBvzIRQY4JEkFc4AxBAe0dQYSIGEE0exJB+NASQUMkB0E1CRBBi3MbQQ4GMEFTmhRB++oJQX3sEkGiCQ9BOgQOQYWGB0FABDpBP78fQTsCBkEQvDRBx8I0QWw+DEEVbBVBTV0LQaRvC0GoshpBPX8SQdZDD0GnLwhBUiwUQVN0EkHCHhFBg7MXQT3QFEF0ABBBWcEaQSMJCkGYeQxBjxQQQYY2EEEwJwlBFPgDQa8jM0HPVQRBIt8RQfQvEkGizP9Azt8qQaVpDEHKNwlB/HwSQb/j/EDSLA5B9tILQei0DUG1IQ5BXC8EQcCZDkELKw5Br58RQS/DCUE3fgRBcAkuQeXVDEE=",
          "dtype": "f4"
         },
         "xaxis": "x",
         "y": {
          "bdata": "zy4bQS6GGEE08gtBsM4XQRGrAkEqTR1BKHUZQZI1IUEn9RxBl8ALQaX/I0EAsB9B2ZkEQaT/DUGc6x5BsKQOQfaTFkGnBgNBk+IiQQcB9UBPzCZBoLgeQQMIJ0GtwxRB7ZUoQY8+IkFqwCRB8owHQSV2I0FdjBFBJS0gQbwcH0GKqidB24wjQYfaKEE4UiBB6igZQdkOFkFwrilBX6QJQYyuK0FmPg5BXeIgQb1baUBRKxtBGucfQdTbDUFz+BlB9k0wQXErEkE0BxhBHaUOQZj1DEE1QRpBy+UdQS7iFkGcGCJB8aaIQGfTJUE2GiVB3V4VQTORBUGNrwFBTrkEQW7b3D9UeQJB0YUeQQ0NJkFIjQNBYbYDQdCCEkFuwwRBrBwKQXymEkExLwZBBWURQWBmKEE5lxhB5yITQRMhFkG1ngxBEUogQXdaKEHDYwFBfXAbQZryE0FXnAZBDtcOQbVkAkFxMxFBoCADQTA0E0F7/wRBxbQSQbfjFkF5vRRBZkMRQfRpKEHKiAxBIlkQQX/O9kAVEBxB+YshQWnYFEFhFidBW44XQX9MHEHOOxVBcDsIQYB3GEFJMABBbxkYQXkcBUEp1gRB/tcaQf2YHkEAXihBCAkeQfhdG0HLRRxBdS8DQTwuEEGalR1B1BYmQWr8AkF5LwJBBf0qQTfvCkGYKBpBC+IhQXQYI0FWpQpBhiwYQXebCEGpRyRBpt8eQQ+bIEFS/BxB+sMPQaXFD0Ey1RlBL04mQRwwEEHzdw1B9VYCQR1OCEGU0iBBuTwRQZsTGkFiGAdB+PEIQXerAEFkHQ9B+jkSQU4GB0Ga7iJBLdcLQe89EEGR+/tAriUrQSWMF0E9ZvhAoUT7QF0xCkFYpgdBRiIPQSIDJkGOTAhBRo8HQdDVJkHsjA1BGCMpQekKAUFQ1RNBkSsqQdfwHkHOXQZBZGgsQS+pJUGiCSZBofYFQUI9BUHghClBwz0bQTiR/UDybhZBiiwDQbiQEEHwKBxBfpsGQUnBE0Es0gtB9M0QQU/RHkEQfCpB5i8TQS0eB0FoSwhBWiodQQNVEkEJYilBS3AMQQQ6EUGtuBdBWF0BQXvfCEE=",
          "dtype": "f4"
         },
         "yaxis": "y"
        },
        {
         "customdata": {
          "bdata": "GwAsAEIASgBLAFQAVgBbAF4AcQCIAI0AlgCzAMIAxADIANQA1QDXANkA3ADdAOMA7QDxAPsA/gALAREBJAE/AVkBbQF1AXwBfQG9AcED",
          "dtype": "i2",
          "shape": "39, 1"
         },
         "hovertemplate": "cluster=11<br>UMAP1=%{x}<br>UMAP2=%{y}<br>index=%{customdata[0]}<extra></extra>",
         "legendgroup": "11",
         "marker": {
          "color": "#B6E880",
          "symbol": "circle"
         },
         "mode": "markers",
         "name": "11",
         "showlegend": true,
         "type": "scattergl",
         "x": {
          "bdata": "AYCPQNUAkUDSkIxALtc6P5xnhUAkMUQ/+deBQLGvQj889ks/RNQ1P1QyhkB7bIlAGBZVPxgvi0Du2UA/Fko8P6bfQj/VZEc/Rw6BQPIZj0DKjT0/PtlEP1MfST+Jz0o/qiODQOBijkBgDzM/Yn42P/RYgUB2Bj0/2deNQOITgUBEPAJBmFWDQEzFMz/Omo1ApcE0P2dJkUAQohFB",
          "dtype": "f4"
         },
         "xaxis": "x",
         "y": {
          "bdata": "qwP5PyLH+z8xVPw/ClswQApxA0DsdTRAqtcGQNtJLECOXzZAkqQuQI0hA0CzHwFAOg84QBIHAEDq9jFALLswQPK/NEAISzVA5QwIQBaY+T83FjZAISQ0QLxpNEDODTVAfg8FQC80+D+iUS1ARcQuQCJCB0DQ/DBAqcX3P+DaCEBTT/0/1msFQFx1LUDmkvs/uyIuQBG1+z/fSRNA",
          "dtype": "f4"
         },
         "yaxis": "y"
        },
        {
         "customdata": {
          "bdata": "IQAnAGsAgACiAKsA8ABdAWIBfgGDAY8BmwHJAcoBzgHWAQkCOwJlAnoChAKQApECuQLmAusC+gL9AgADHwMmA0cDYANvA3EDcgOIA40DmQOkA6sDrAPSA9cD2APqA/gDBgQSBBMEKwQuBDMETgRSBGoEewR8BJgEqwStBLcE4gT0BAYFEAURBSIFIwV1BXYFeQWTBZUFnQWfBaYFqAWrBa4FvAW+BdwF4AXlBe8F",
          "dtype": "i2",
          "shape": "87, 1"
         },
         "hovertemplate": "cluster=7<br>UMAP1=%{x}<br>UMAP2=%{y}<br>index=%{customdata[0]}<extra></extra>",
         "legendgroup": "7",
         "marker": {
          "color": "#FF97FF",
          "symbol": "circle"
         },
         "mode": "markers",
         "name": "7",
         "showlegend": true,
         "type": "scattergl",
         "x": {
          "bdata": "fL1IQeMTSkHTBzZBnn5NQW5eQEFn2ERBSalIQXYQO0FPekZBcV9FQRljTEFkpkRB8rxKQYN/O0HXPjxB8wpEQe1uSkE89UpBZmA0QVEuS0Hu3DNB9y08QcZMR0GbWk1B94syQRAUTEHRS0ZBnPJEQQLES0G4U0RB2iFLQXXKQUFuA0BB4fNHQY6zTEEwHU5BH4FCQRnsPEH49kdBQ4lIQXSvOEHRM0NB1SpKQX0nQUHdqUdBfy5GQTxHREHOoERBWhVFQe/8RkEOpT5BfWNIQUYRREHBqE1BKPU9QRk4TUE6fklBMMBGQaRcS0HTzktBWFJLQW5qSEELqDNBlRY4QZ0lRUGvR0tBX39CQaB+Q0HH9EJBjJZDQYgiTkGZOTZBkK5NQVt2PEHmmElBnNtLQW3CTUFgl0lB82VBQV+ZRkFd+zZBRaRKQRAhSEFlb0lBtyQzQeL4SkFIn01B",
          "dtype": "f4"
         },
         "xaxis": "x",
         "y": {
          "bdata": "ox2NQPLkjUCTFrxAdrOHQExBbkAsQJxAH8+NQHU3fkCoi3pABH6VQHugh0BeC5VA9kiJQFYZkUA+toJACyqYQLmQiEBa0n1AV7+/QBXyiECG9sBAKixvQNc9e0C3eIhA3cPDQKPZgkD1dU5A9HKKQK5ojkA1+Y9AmXeHQJqZiEBfMG1AE2KCQKABi0B/l4lAzwSLQM0Og0A203BAsICIQIVyu0DyrJ1ArG2EQPA8iEA7Mn9ADYmSQNDZiECGbJNA2DaNQLT5iUDT1YhAuWeGQKv8j0CjaX1Al4GEQHGNi0DmNohAxOdYQOaPh0AgS49AOHF8QMN0iEAtdcFAM1u3QJxMlECTZ35AUMVjQJJIeEBEY4ZAU2iiQAKjh0BHdbtAf4VxQFmcf0DI9IRAOxqAQMUhjEBdAoNAK3+KQMgWlEB2f3FALXV3QKiHh0DTpVhA1ZPCQKwgeEB+eIhA",
          "dtype": "f4"
         },
         "yaxis": "y"
        },
        {
         "customdata": {
          "bdata": "JQAuADQANgBAAE4AUABaAGwAdAB9AJoA0ADkAAcBEwGEAcABywHxAf4BCwIPAhECKwI0AkICfgKAApcCpgKyAocDjgORA5gDpwPpA/8DGgQ1BEgEWQRjBJsEtATJBM4E0ATVBNgE5QTxBPsEAgUnBTkFOgU7BUgFSgVMBVUFWAV3BZEF5AXqBe4F8QX9BQEGBAYFBggGCgYMBg==",
          "dtype": "i2",
          "shape": "77, 1"
         },
         "hovertemplate": "cluster=9<br>UMAP1=%{x}<br>UMAP2=%{y}<br>index=%{customdata[0]}<extra></extra>",
         "legendgroup": "9",
         "marker": {
          "color": "#FECB52",
          "symbol": "circle"
         },
         "mode": "markers",
         "name": "9",
         "showlegend": true,
         "type": "scattergl",
         "x": {
          "bdata": "ngYkQYNRIkEN+hpB8KcmQbF5I0FY2BpBrhIgQSy4IEFihjJBRIYhQYwgJEGskCNBVAgkQfYFMEFK6SNBseUuQbieI0FpKCpBXX4uQSWpLUGYiypBf641QYH3LEHQHStBYmoiQZ5dL0FAHSBByl8vQYVWMUGiOUhBgcUpQa18LkEsliRBcDwTQVldL0En8iBBMpcVQX+gJ0EdEiJBYxc2Qa2cIkExEiFBdFwjQSwLFEFrXx9BezweQee8KEF1gzBBeZAXQROuIkEhgDFBfR4kQaEtJUG7VCxB41oeQUYoGEE/HhdBK4UfQQgYKUH5cydBedcrQb+OI0HhciNBSZQeQYZxF0FpkCJBFDgqQc2iLkH4KSJBRUMyQTYRJUHusCJBPH4xQVFGI0EW2yRBJKQxQdFLIEE=",
          "dtype": "f4"
         },
         "xaxis": "x",
         "y": {
          "bdata": "EvvyQFc2CEEitQNBrzzxQPN77kC7YwVBTSL5QKM4+0DBw8NA5WXyQK8M9ECdaApBFBIKQdu++0B5uQpBVZALQZw63UBz3fxAdN8KQVPuC0ERkgBBE6IUQVXSDEGh0AJBrqDfQDb+DUGcYQJBna4MQR/IxkACTRVBm9qHQCagDUFpleNA6RICQR1cy0CuAOtAnIYAQcGO9kCplghBBde7QNxY60Ar5vhA/wnnQCxAAkFm0PxA8vbxQGMb+kA6sMhAdzcEQYa450ANcMZAOX/rQKjy6EAksNJABWv/QH/eAkH8DwNBcGX1QCOS5UCwU91AXyfeQGmM6kCR4+pAy5n+QOLhAUGYMPFAv1rkQBsB+ECgTeJA1Z72QDv52UB34t1ANw3GQMB57kBYKNlA0qjFQIKR90A=",
          "dtype": "f4"
         },
         "yaxis": "y"
        },
        {
         "customdata": {
          "bdata": "ZwCQAJUAmQCgAKEApgCsALAAwADBAMUAzADOAOUA7AD3AAABDAEhAS0BNAFVAWUBiAGVAZcBqgGxAbkB0wHaAd0B5AHoAfIB9wH7AQMCBwIYAiECLQI5AkQCTQJTAmcCaQJsAnACcgJ7AoMCiwKMAo8ClgKYAp4CnwKjAqsCsAKzArYCugK8Ar0CvwLDAsQCxQLGAscCygLLAs8C0gLTAtYC1wLYAtkC2gLgAuMC5ALnAu4C7wLwAvMC+QL8Av8CAgMIAzsDXwPRAwQEJAQ+BFYEXQRoBG4EegSOBKQEqASuBLsEwQTEBMcEzQTRBNIE2gTpBO0E7gT2BP0EDQUOBR4FIAUqBTYFPAVHBVIFWwVpBX4FhAWgBbUFxQXTBd8F",
          "dtype": "i2",
          "shape": "144, 1"
         },
         "hovertemplate": "cluster=4<br>UMAP1=%{x}<br>UMAP2=%{y}<br>index=%{customdata[0]}<extra></extra>",
         "legendgroup": "4",
         "marker": {
          "color": "#636efa",
          "symbol": "circle"
         },
         "mode": "markers",
         "name": "4",
         "showlegend": true,
         "type": "scattergl",
         "x": {
          "bdata": "22swQRVPLEGhMTNBXHk/QYdNTUETHSJBcwUZQfbaTEHODkNBRDdIQb5mSEHHTkFBLzRMQfBKPEFgwUhBzvdHQWxDSUGWqkJBWxJBQeTrQkHV1kdBY/RBQWnZS0FXr0pBoeRNQf/0O0Fy3kpBJyFOQUN9QEEXXUtBaJBKQRt5OEHY10lB3ElNQa3FREEek0dBGMVOQf7xSkEnwExBUipNQTvtTkFCUE1BWAVLQeat9kBh605B1ShLQVVMTUHz0kJBMT9NQQEyQUFD+zhBipVNQeHaS0FaozpB8lBIQQt5TUGIYEtBu9RKQbrSS0EoLU1BWedOQQXtSUHLk0pB/oBMQQKuTkEX2zlB01JMQd3vSUEYOUtBBQE+QQIeTUEzqThBBHo/QatuN0H0HEtB44tMQStOQ0HhB0dB7tpIQSEsSEGZuE5BHWdLQTKXSUE7ZEtButZNQWkWT0EjgUtBrp5OQVq0SkGl5EtB/6BMQfEvSkEa6k1Bs65KQehxTkGl9U1BF5pPQYJ/T0EXGDFBLt0vQVqUMUHkAjBBWH0jQcF5MUGQDCdBYQAxQa1aMkEqIzJBL000QclpTkG5LjJBXkdNQVS6NEF2jjVB20VDQaS2Q0GzPk1Bs+c9QesiRkGL0DRBVQdEQaW4SUFE3kZBFtg9QWQhOEG8sTBByZ9NQSqSNUGRBk1Bz0AuQWk1TkGXpk1BTNo1QVilOEFu3zZBb8QzQZFSL0FEIy9BgS8wQbQJJUGSWDdB4tErQSUUAkGgcjBB",
          "dtype": "f4"
         },
         "xaxis": "x",
         "y": {
          "bdata": "A1k8QSFwPkFWbEBBSmw8QYtQHUH67mZAYsIfQb4xM0Hq+D1BKegnQcvfJUEN8TxBPrknQeSvOkHefyZB8r8lQTf5IkEWsSdBG6EvQWPeKUH+xCRBIHUpQVsJF0HESkRBYaMuQQOTOEHctkFBOA0rQRwUKUEvIEVB918iQQg/F0GFhkNBmtsrQcuNIUEmFylBFQY1QWMrPkEy6ztBAAUYQSmOIEGDWDxBIDJDQdmbJ0ErLSBBbxRFQY8hREGgECpBFmlFQbswKEEVpiVB1foXQeDVREECYh5BhMYkQaiuREE/W0NB7RAoQVqVRUEMZhlBGqA5QfLuQ0Fc7kFB/IRFQQ2VOkEl8j1BK49AQQNoIkE1/0RB9Yo7QSC2K0GCQo1AU70dQZR/PEFswz9BVt8pQRt7PEES+z1BmYIkQealPUEGfSpBiWFBQYN+PUHX9jtBOtIZQTCQIEGbo0JBJtY6QditQ0H46z9B3OYoQWbrJUGSZDxB9TspQVD5M0FG/DtBPgAfQeuqHkE0+wRBwApAQexJCkE6WT9BN2g4QbbdBEHPYTtB3Z8EQbd2QUG+hzxB06Y6QZIhHkGwxB9B7GYvQbJ7QEHms0JBSlIhQbrbH0GCjSVBxewcQapFH0ETh0BBQkIfQekQF0GNHyFBhKIgQdXqQkHO0j9B9g4wQenFQUGeyjNB+jA9QR0mHUHE8DFB8mBBQWK9QEF7Yz9BAUJBQXS/P0GbhzxBFms/QXSkOkHhhEFBONM6QfE24z8R5D9B",
          "dtype": "f4"
         },
         "yaxis": "y"
        },
        {
         "customdata": {
          "bdata": "bwCeAKMAqQCvALEAsgC0ALwAvQC+AL8AxwDJAMoAzQDPANEA0gDaAN4A3wDiAOgA8gD0APkABQEGARYBGgEiAS4BLwE3AUcBSAFNAWoBbwFxAXoBewGAAYUBiQGUAZYBngGjAakBtgG8AcQBzwHSAdUB2wHcAeMB5QHtAe4B9QH2AfoBAQICAgYCDgIWAhcCHQIgAiMCKQIsAi8CNQI6AjwCQwJKAksCTAJQAlICVQJZAloCXAJfAmYCbQJuAnMCeQKCAogCiQKSApsCnQKkAqkCqgKsArUCvgKSBKIEowSsBLUEyATKBN4E3wTmBP4ECQUZBTcFXAU=",
          "dtype": "i2",
          "shape": "124, 1"
         },
         "hovertemplate": "cluster=6<br>UMAP1=%{x}<br>UMAP2=%{y}<br>index=%{customdata[0]}<extra></extra>",
         "legendgroup": "6",
         "marker": {
          "color": "#EF553B",
          "symbol": "circle"
         },
         "mode": "markers",
         "name": "6",
         "showlegend": true,
         "type": "scattergl",
         "x": {
          "bdata": "SKYvQe6BMUEkoDFBRn45QRvmJUFEZCBBVDE2QZtsJkHwiTRB0NAgQYnWI0FxTzVBeO0wQVrqL0H8sDNBiZc1QQBjKEHfZydBW2I3QUI6JUG6nyxBb5Y4QXdcN0F9tTxB21omQTJONEHdmThBs8s5QSmOO0Ge2S5B8Mw7QV+8PEHB2yhBaIU3QXnrOUHOcC1B20YoQZBzOEHCTDpB+KQrQQrGKUFa+iBBWNIqQRKlL0EoditBbWIwQWGdL0ECUjtB2T8vQRerJ0Hrci5BWmMxQViPMEF5QylBKmctQdJVN0E+NDNBAN0zQY53MEEfIDBBTaQ1QeliK0EQEyhBI3c3QVm7MkHuWztB+vgyQXIMMUHvMTJBpDUpQeYsN0EJYDFB9nI2QSVKKUF2OS5B46U0QVBSJ0GxGSdBgX8rQRbZO0HsdCVBcU8vQWx4LkH5/S1B5RUnQdcEPEGGcDxBiYAkQR1aJkGoEDBBKIMqQVXENkFlOiVBotcmQS5gNEGj1TpBthYtQZiFK0GlxStBEXQpQSEjKEGUszRBT+YwQcsRLkHoxjRBvP0xQadAK0Gw5i5BEbQzQUoHJUFeGCRBgOIgQRG8J0F/RilBT6YhQfY0KEEqkC5BU3ohQb4DMUE2HiBBwW4oQcmWNkFkHSJBZh0oQQ==",
          "dtype": "f4"
         },
         "xaxis": "x",
         "y": {
          "bdata": "6SQhQQbIOUES5zJBi1w4QbdAGEEmBjBBQ040QcHzG0GNxCZBAzovQYMNMEGrmxhBWNQqQaH4K0E3qShBQs0oQbd1G0HMIhlB0UUsQQAvEEHL4CBBEMoqQRA0KkF3GzlBReYRQb1UKEFSKCtBTqspQcN4NUFacRpBTGwvQSaiMEFWnBVB9BosQUvBJUG2jRFB4c0VQTZJLUFjOjlBE3MeQeM/EkFRJh1B/p0HQfSYLkFh6hxBbyozQU6TNkGqLThBdms0QfDMGkEw5DBBZD8yQWr3MkFRhBxBrpIZQdX2FkHVFDpBLhYiQU6HIkHv2CFBXDcqQWjkE0FVpy9B704vQT6lGkFSNSVBuXAiQXOzJkFAHSRBBmscQXQKGkEqWRdBhQIaQY2EF0EOoBZBPTgfQZGuMEGSGDFBZVgkQWFZM0EOvjFBjb8YQWCjHEGEPRFB3CgwQbJgNEHvbDBBlIgvQWsPMEFW2RpB8NImQfCeK0HgmTBB8oYwQQUUJUG60TVBBd0gQdIPJUE4eRtBK08tQdkSLkGPdhxBydkjQeBOHEF0yiVB5r8YQYAhJkE/NA9Blm0jQcmOIUEe1DJBcO8rQSzXHUFs7jpBzkYuQYZzG0ExNiZBj9gtQcmzGUEc6itB9qUTQa12GkHODzBBiMEbQQ==",
          "dtype": "f4"
         },
         "yaxis": "y"
        }
       ],
       "layout": {
        "height": 800,
        "legend": {
         "title": {
          "text": "cluster"
         },
         "tracegroupgap": 0
        },
        "template": {
         "data": {
          "bar": [
           {
            "error_x": {
             "color": "#2a3f5f"
            },
            "error_y": {
             "color": "#2a3f5f"
            },
            "marker": {
             "line": {
              "color": "#E5ECF6",
              "width": 0.5
             },
             "pattern": {
              "fillmode": "overlay",
              "size": 10,
              "solidity": 0.2
             }
            },
            "type": "bar"
           }
          ],
          "barpolar": [
           {
            "marker": {
             "line": {
              "color": "#E5ECF6",
              "width": 0.5
             },
             "pattern": {
              "fillmode": "overlay",
              "size": 10,
              "solidity": 0.2
             }
            },
            "type": "barpolar"
           }
          ],
          "carpet": [
           {
            "aaxis": {
             "endlinecolor": "#2a3f5f",
             "gridcolor": "white",
             "linecolor": "white",
             "minorgridcolor": "white",
             "startlinecolor": "#2a3f5f"
            },
            "baxis": {
             "endlinecolor": "#2a3f5f",
             "gridcolor": "white",
             "linecolor": "white",
             "minorgridcolor": "white",
             "startlinecolor": "#2a3f5f"
            },
            "type": "carpet"
           }
          ],
          "choropleth": [
           {
            "colorbar": {
             "outlinewidth": 0,
             "ticks": ""
            },
            "type": "choropleth"
           }
          ],
          "contour": [
           {
            "colorbar": {
             "outlinewidth": 0,
             "ticks": ""
            },
            "colorscale": [
             [
              0,
              "#0d0887"
             ],
             [
              0.1111111111111111,
              "#46039f"
             ],
             [
              0.2222222222222222,
              "#7201a8"
             ],
             [
              0.3333333333333333,
              "#9c179e"
             ],
             [
              0.4444444444444444,
              "#bd3786"
             ],
             [
              0.5555555555555556,
              "#d8576b"
             ],
             [
              0.6666666666666666,
              "#ed7953"
             ],
             [
              0.7777777777777778,
              "#fb9f3a"
             ],
             [
              0.8888888888888888,
              "#fdca26"
             ],
             [
              1,
              "#f0f921"
             ]
            ],
            "type": "contour"
           }
          ],
          "contourcarpet": [
           {
            "colorbar": {
             "outlinewidth": 0,
             "ticks": ""
            },
            "type": "contourcarpet"
           }
          ],
          "heatmap": [
           {
            "colorbar": {
             "outlinewidth": 0,
             "ticks": ""
            },
            "colorscale": [
             [
              0,
              "#0d0887"
             ],
             [
              0.1111111111111111,
              "#46039f"
             ],
             [
              0.2222222222222222,
              "#7201a8"
             ],
             [
              0.3333333333333333,
              "#9c179e"
             ],
             [
              0.4444444444444444,
              "#bd3786"
             ],
             [
              0.5555555555555556,
              "#d8576b"
             ],
             [
              0.6666666666666666,
              "#ed7953"
             ],
             [
              0.7777777777777778,
              "#fb9f3a"
             ],
             [
              0.8888888888888888,
              "#fdca26"
             ],
             [
              1,
              "#f0f921"
             ]
            ],
            "type": "heatmap"
           }
          ],
          "histogram": [
           {
            "marker": {
             "pattern": {
              "fillmode": "overlay",
              "size": 10,
              "solidity": 0.2
             }
            },
            "type": "histogram"
           }
          ],
          "histogram2d": [
           {
            "colorbar": {
             "outlinewidth": 0,
             "ticks": ""
            },
            "colorscale": [
             [
              0,
              "#0d0887"
             ],
             [
              0.1111111111111111,
              "#46039f"
             ],
             [
              0.2222222222222222,
              "#7201a8"
             ],
             [
              0.3333333333333333,
              "#9c179e"
             ],
             [
              0.4444444444444444,
              "#bd3786"
             ],
             [
              0.5555555555555556,
              "#d8576b"
             ],
             [
              0.6666666666666666,
              "#ed7953"
             ],
             [
              0.7777777777777778,
              "#fb9f3a"
             ],
             [
              0.8888888888888888,
              "#fdca26"
             ],
             [
              1,
              "#f0f921"
             ]
            ],
            "type": "histogram2d"
           }
          ],
          "histogram2dcontour": [
           {
            "colorbar": {
             "outlinewidth": 0,
             "ticks": ""
            },
            "colorscale": [
             [
              0,
              "#0d0887"
             ],
             [
              0.1111111111111111,
              "#46039f"
             ],
             [
              0.2222222222222222,
              "#7201a8"
             ],
             [
              0.3333333333333333,
              "#9c179e"
             ],
             [
              0.4444444444444444,
              "#bd3786"
             ],
             [
              0.5555555555555556,
              "#d8576b"
             ],
             [
              0.6666666666666666,
              "#ed7953"
             ],
             [
              0.7777777777777778,
              "#fb9f3a"
             ],
             [
              0.8888888888888888,
              "#fdca26"
             ],
             [
              1,
              "#f0f921"
             ]
            ],
            "type": "histogram2dcontour"
           }
          ],
          "mesh3d": [
           {
            "colorbar": {
             "outlinewidth": 0,
             "ticks": ""
            },
            "type": "mesh3d"
           }
          ],
          "parcoords": [
           {
            "line": {
             "colorbar": {
              "outlinewidth": 0,
              "ticks": ""
             }
            },
            "type": "parcoords"
           }
          ],
          "pie": [
           {
            "automargin": true,
            "type": "pie"
           }
          ],
          "scatter": [
           {
            "fillpattern": {
             "fillmode": "overlay",
             "size": 10,
             "solidity": 0.2
            },
            "type": "scatter"
           }
          ],
          "scatter3d": [
           {
            "line": {
             "colorbar": {
              "outlinewidth": 0,
              "ticks": ""
             }
            },
            "marker": {
             "colorbar": {
              "outlinewidth": 0,
              "ticks": ""
             }
            },
            "type": "scatter3d"
           }
          ],
          "scattercarpet": [
           {
            "marker": {
             "colorbar": {
              "outlinewidth": 0,
              "ticks": ""
             }
            },
            "type": "scattercarpet"
           }
          ],
          "scattergeo": [
           {
            "marker": {
             "colorbar": {
              "outlinewidth": 0,
              "ticks": ""
             }
            },
            "type": "scattergeo"
           }
          ],
          "scattergl": [
           {
            "marker": {
             "colorbar": {
              "outlinewidth": 0,
              "ticks": ""
             }
            },
            "type": "scattergl"
           }
          ],
          "scattermap": [
           {
            "marker": {
             "colorbar": {
              "outlinewidth": 0,
              "ticks": ""
             }
            },
            "type": "scattermap"
           }
          ],
          "scattermapbox": [
           {
            "marker": {
             "colorbar": {
              "outlinewidth": 0,
              "ticks": ""
             }
            },
            "type": "scattermapbox"
           }
          ],
          "scatterpolar": [
           {
            "marker": {
             "colorbar": {
              "outlinewidth": 0,
              "ticks": ""
             }
            },
            "type": "scatterpolar"
           }
          ],
          "scatterpolargl": [
           {
            "marker": {
             "colorbar": {
              "outlinewidth": 0,
              "ticks": ""
             }
            },
            "type": "scatterpolargl"
           }
          ],
          "scatterternary": [
           {
            "marker": {
             "colorbar": {
              "outlinewidth": 0,
              "ticks": ""
             }
            },
            "type": "scatterternary"
           }
          ],
          "surface": [
           {
            "colorbar": {
             "outlinewidth": 0,
             "ticks": ""
            },
            "colorscale": [
             [
              0,
              "#0d0887"
             ],
             [
              0.1111111111111111,
              "#46039f"
             ],
             [
              0.2222222222222222,
              "#7201a8"
             ],
             [
              0.3333333333333333,
              "#9c179e"
             ],
             [
              0.4444444444444444,
              "#bd3786"
             ],
             [
              0.5555555555555556,
              "#d8576b"
             ],
             [
              0.6666666666666666,
              "#ed7953"
             ],
             [
              0.7777777777777778,
              "#fb9f3a"
             ],
             [
              0.8888888888888888,
              "#fdca26"
             ],
             [
              1,
              "#f0f921"
             ]
            ],
            "type": "surface"
           }
          ],
          "table": [
           {
            "cells": {
             "fill": {
              "color": "#EBF0F8"
             },
             "line": {
              "color": "white"
             }
            },
            "header": {
             "fill": {
              "color": "#C8D4E3"
             },
             "line": {
              "color": "white"
             }
            },
            "type": "table"
           }
          ]
         },
         "layout": {
          "annotationdefaults": {
           "arrowcolor": "#2a3f5f",
           "arrowhead": 0,
           "arrowwidth": 1
          },
          "autotypenumbers": "strict",
          "coloraxis": {
           "colorbar": {
            "outlinewidth": 0,
            "ticks": ""
           }
          },
          "colorscale": {
           "diverging": [
            [
             0,
             "#8e0152"
            ],
            [
             0.1,
             "#c51b7d"
            ],
            [
             0.2,
             "#de77ae"
            ],
            [
             0.3,
             "#f1b6da"
            ],
            [
             0.4,
             "#fde0ef"
            ],
            [
             0.5,
             "#f7f7f7"
            ],
            [
             0.6,
             "#e6f5d0"
            ],
            [
             0.7,
             "#b8e186"
            ],
            [
             0.8,
             "#7fbc41"
            ],
            [
             0.9,
             "#4d9221"
            ],
            [
             1,
             "#276419"
            ]
           ],
           "sequential": [
            [
             0,
             "#0d0887"
            ],
            [
             0.1111111111111111,
             "#46039f"
            ],
            [
             0.2222222222222222,
             "#7201a8"
            ],
            [
             0.3333333333333333,
             "#9c179e"
            ],
            [
             0.4444444444444444,
             "#bd3786"
            ],
            [
             0.5555555555555556,
             "#d8576b"
            ],
            [
             0.6666666666666666,
             "#ed7953"
            ],
            [
             0.7777777777777778,
             "#fb9f3a"
            ],
            [
             0.8888888888888888,
             "#fdca26"
            ],
            [
             1,
             "#f0f921"
            ]
           ],
           "sequentialminus": [
            [
             0,
             "#0d0887"
            ],
            [
             0.1111111111111111,
             "#46039f"
            ],
            [
             0.2222222222222222,
             "#7201a8"
            ],
            [
             0.3333333333333333,
             "#9c179e"
            ],
            [
             0.4444444444444444,
             "#bd3786"
            ],
            [
             0.5555555555555556,
             "#d8576b"
            ],
            [
             0.6666666666666666,
             "#ed7953"
            ],
            [
             0.7777777777777778,
             "#fb9f3a"
            ],
            [
             0.8888888888888888,
             "#fdca26"
            ],
            [
             1,
             "#f0f921"
            ]
           ]
          },
          "colorway": [
           "#636efa",
           "#EF553B",
           "#00cc96",
           "#ab63fa",
           "#FFA15A",
           "#19d3f3",
           "#FF6692",
           "#B6E880",
           "#FF97FF",
           "#FECB52"
          ],
          "font": {
           "color": "#2a3f5f"
          },
          "geo": {
           "bgcolor": "white",
           "lakecolor": "white",
           "landcolor": "#E5ECF6",
           "showlakes": true,
           "showland": true,
           "subunitcolor": "white"
          },
          "hoverlabel": {
           "align": "left"
          },
          "hovermode": "closest",
          "mapbox": {
           "style": "light"
          },
          "paper_bgcolor": "white",
          "plot_bgcolor": "#E5ECF6",
          "polar": {
           "angularaxis": {
            "gridcolor": "white",
            "linecolor": "white",
            "ticks": ""
           },
           "bgcolor": "#E5ECF6",
           "radialaxis": {
            "gridcolor": "white",
            "linecolor": "white",
            "ticks": ""
           }
          },
          "scene": {
           "xaxis": {
            "backgroundcolor": "#E5ECF6",
            "gridcolor": "white",
            "gridwidth": 2,
            "linecolor": "white",
            "showbackground": true,
            "ticks": "",
            "zerolinecolor": "white"
           },
           "yaxis": {
            "backgroundcolor": "#E5ECF6",
            "gridcolor": "white",
            "gridwidth": 2,
            "linecolor": "white",
            "showbackground": true,
            "ticks": "",
            "zerolinecolor": "white"
           },
           "zaxis": {
            "backgroundcolor": "#E5ECF6",
            "gridcolor": "white",
            "gridwidth": 2,
            "linecolor": "white",
            "showbackground": true,
            "ticks": "",
            "zerolinecolor": "white"
           }
          },
          "shapedefaults": {
           "line": {
            "color": "#2a3f5f"
           }
          },
          "ternary": {
           "aaxis": {
            "gridcolor": "white",
            "linecolor": "white",
            "ticks": ""
           },
           "baxis": {
            "gridcolor": "white",
            "linecolor": "white",
            "ticks": ""
           },
           "bgcolor": "#E5ECF6",
           "caxis": {
            "gridcolor": "white",
            "linecolor": "white",
            "ticks": ""
           }
          },
          "title": {
           "x": 0.05
          },
          "xaxis": {
           "automargin": true,
           "gridcolor": "white",
           "linecolor": "white",
           "ticks": "",
           "title": {
            "standoff": 15
           },
           "zerolinecolor": "white",
           "zerolinewidth": 2
          },
          "yaxis": {
           "automargin": true,
           "gridcolor": "white",
           "linecolor": "white",
           "ticks": "",
           "title": {
            "standoff": 15
           },
           "zerolinecolor": "white",
           "zerolinewidth": 2
          }
         }
        },
        "title": {
         "text": "UMAP plot colored by cluster"
        },
        "width": 1000,
        "xaxis": {
         "anchor": "y",
         "domain": [
          0,
          1
         ],
         "title": {
          "text": "UMAP1"
         }
        },
        "yaxis": {
         "anchor": "x",
         "domain": [
          0,
          1
         ],
         "title": {
          "text": "UMAP2"
         }
        }
       }
      },
      "image/png": "[encoded data removed]"
     },
     "metadata": {},
     "output_type": "display_data"
    }
   ],
   "source": [
    "# UMAP embedding\n",
    "reducer = umap.UMAP()\n",
    "\n",
    "# UMAP with hyperparameters\n",
    "# Uncomment the following lines to use specific parameters\n",
    "# reducer = umap.UMAP(\n",
    "#     n_neighbors=30,\n",
    "#     min_dist=0.3,\n",
    "#     metric=\"euclidean\",\n",
    "#     random_state=42,\n",
    "# )\n",
    "\n",
    "embedding = reducer.fit_transform(scaled_df[list(cluster_channels.value)])\n",
    "embedding_df = pd.DataFrame(embedding, columns=[\"UMAP1\", \"UMAP2\"])\n",
    "# add cluster column\n",
    "embedding_df[\"cluster\"] = pd.Categorical(\n",
    "    communities, ordered=True, categories=sorted(set(communities))\n",
    ")\n",
    "\n",
    "# plot embedding\n",
    "fig = px.scatter(\n",
    "    embedding_df,\n",
    "    x=\"UMAP1\",\n",
    "    y=\"UMAP2\",\n",
    "    color=\"cluster\",\n",
    "    hover_data=[embedding_df.index],\n",
    "    color_continuous_scale=\"jet\",\n",
    "    title=\"UMAP plot colored by cluster\",\n",
    "    width=1000,\n",
    "    height=800,\n",
    ")\n",
    "\n",
    "fig.show(renderer='jupyterlab')"
   ]
  },
  {
   "cell_type": "markdown",
   "id": "64f4cb61-3aba-4974-8e17-554f6420e6af",
   "metadata": {},
   "source": [
    "## Cluster analysis using a cluster heatmap\n",
    "The section is used to create a heatmap of the previously generated clusters. This can aide in phenotyping cells or distinguishing whole tissue areas.\n",
    "The heatmap is generated in the following way:\n",
    "\n",
    "1. The mean or median of each channel for every cluster is calculated.\n",
    "2. Channel Z-scores (the number of standard deviations from the mean) are calculated for each cluster.\n",
    "3. Z-scores are visualised as coloured squares ranging from blue (negative deviation) to red (positive deviation)."
   ]
  },
  {
   "cell_type": "code",
   "execution_count": 51,
   "id": "88455b52",
   "metadata": {},
   "outputs": [
    {
     "data": {
      "application/vnd.jupyter.widget-view+json": {
       "model_id": "345d435b89ee4406b046e91859117f76",
       "version_major": 2,
       "version_minor": 0
      },
      "text/plain": [
       "HBox(children=(SelectMultiple(description='Channels:', options=('cell_label', 'Center_Y', 'Center_X', 'Area', …"
      ]
     },
     "metadata": {},
     "output_type": "display_data"
    }
   ],
   "source": [
    "# Widgets\n",
    "heatmap_channels = widgets.SelectMultiple(\n",
    "    options=filtered_df.columns,\n",
    "    rows=20,\n",
    "    description=\"Channels:\",\n",
    "    style={\"description_width\": \"initial\"},\n",
    ")\n",
    "\n",
    "stats_method = widgets.RadioButtons(\n",
    "    options=[\"Median\", \"Mean\"],\n",
    "    value=\"Median\",\n",
    "    description=\"Statistical method:\",\n",
    "    style={\"description_width\": \"initial\"},\n",
    ")\n",
    "\n",
    "profile_output = widgets.Output()\n",
    "\n",
    "\n",
    "def generate_cluster_profiles(method=\"Median\", selected_channels=None):\n",
    "    if \"filtered_df\" not in globals() or \"cluster\" not in filtered_df.columns:\n",
    "        return (\n",
    "            pd.DataFrame(),\n",
    "            pd.DataFrame(),\n",
    "            None,\n",
    "            \"Error: No clustering data available.\",\n",
    "        )\n",
    "\n",
    "    cluster_sizes = filtered_df[\"cluster\"].value_counts().sort_index()\n",
    "\n",
    "    if selected_channels and len(selected_channels) > 0:\n",
    "        columns_to_use = selected_channels\n",
    "    else:\n",
    "        columns_to_use = filtered_df.select_dtypes(include=[\"number\"]).columns\n",
    "\n",
    "    if method == \"Median\": # median\n",
    "        profiles = filtered_df.groupby(\"cluster\")[columns_to_use].median()\n",
    "    else:  # mean\n",
    "        profiles = filtered_df.groupby(\"cluster\")[columns_to_use].mean()\n",
    "\n",
    "    # Z-score scaling\n",
    "    z_scaler = preprocessing.StandardScaler()\n",
    "    z_scaled = z_scaler.fit_transform(profiles)\n",
    "    heatmap_clusters = pd.DataFrame(\n",
    "        z_scaled, columns=profiles.columns, index=profiles.index\n",
    "    )\n",
    "\n",
    "    # Return profiles, Z-scaled profiles, and cluster sizes\n",
    "    return (\n",
    "        profiles,\n",
    "        heatmap_clusters,\n",
    "        cluster_sizes,\n",
    "        f\"Created profiles for {len(cluster_sizes)} clusters using {method.lower()} of {len(columns_to_use)} channels\",\n",
    "    )\n",
    "\n",
    "\n",
    "def draw_heatmap(change=None):\n",
    "    with profile_output:\n",
    "        profile_output.clear_output(wait=True)\n",
    "        method = stats_method.value\n",
    "        selected_channels = list(heatmap_channels.value)\n",
    "\n",
    "        # profiles\n",
    "        raw_profiles, heatmap_clusters, cluster_sizes, message = (\n",
    "            generate_cluster_profiles(\n",
    "                method=method, selected_channels=selected_channels\n",
    "            )\n",
    "        )\n",
    "\n",
    "        if raw_profiles.empty:\n",
    "            print(message)\n",
    "            return\n",
    "\n",
    "        # Store results\n",
    "        global cluster_profiles, cluster_heatmap\n",
    "        cluster_profiles = raw_profiles\n",
    "        cluster_heatmap = heatmap_clusters\n",
    "\n",
    "        print(message)\n",
    "\n",
    "        # figure with two y-axes\n",
    "        fig, ax1 = plt.subplots(figsize=(12, max(6, len(cluster_sizes) * 0.4)))\n",
    "        sns.heatmap(heatmap_clusters, cmap=\"bwr\", center=0, ax=ax1)\n",
    "        ax1.set_xticks(np.arange(heatmap_clusters.shape[1]) + 0.5)  # Center ticks\n",
    "        xticklabels = ax1.set_xticklabels(heatmap_clusters.columns, rotation=45)\n",
    "\n",
    "        for label in xticklabels:\n",
    "            label.set_horizontalalignment(\"right\")\n",
    "            label.set_verticalalignment(\"top\")\n",
    "            label.set_rotation_mode(\"anchor\")\n",
    "\n",
    "        # adjust font size if too many labels\n",
    "        if len(selected_channels) > 35:\n",
    "            fontsize = 6\n",
    "        else:\n",
    "            fontsize = 10\n",
    "\n",
    "        for label in ax1.get_xticklabels():\n",
    "            label.set_fontsize(fontsize)\n",
    "\n",
    "        ax1.set_title(f\"Cluster Profiles ({method})\")\n",
    "        ax1.set_xlabel(\"Channels\")\n",
    "        ax1.set_ylabel(\"Cluster\")\n",
    "\n",
    "        # second y-axis for cluster sizes\n",
    "        ax2 = ax1.twinx()\n",
    "        ax2.set_yticks(np.arange(len(cluster_sizes)) + 0.5)\n",
    "        ax2.set_yticklabels(cluster_sizes.values, fontsize=8)\n",
    "        ax2.set_ylabel(\"Cluster Size\")\n",
    "        ax2.set_ylim(ax1.get_ylim())\n",
    "        ax2.tick_params(axis=\"y\", length=0)\n",
    "        ax1.grid(False)\n",
    "        ax2.grid(False)\n",
    "\n",
    "        plt.tight_layout(rect=[0, 0, 0.95, 1])\n",
    "        plt.show()\n",
    "\n",
    "\n",
    "# Observers\n",
    "heatmap_channels.observe(draw_heatmap, names=\"value\")\n",
    "stats_method.observe(draw_heatmap, names=\"value\")\n",
    "\n",
    "display(widgets.HBox([heatmap_channels, widgets.VBox([stats_method, profile_output])]))\n",
    "\n",
    "# Initial update\n",
    "if heatmap_channels.value:\n",
    "    draw_heatmap()\n",
    "else:\n",
    "    with profile_output:\n",
    "        print(\"Please select channels to generate the heatmap.\")"
   ]
  },
  {
   "cell_type": "markdown",
   "id": "851cbbbe-eb89-417f-a14c-12f347a03b53",
   "metadata": {},
   "source": [
    "### Select cluster and channel to be displayed in a histogram below\n",
    "\n",
    "**NOTE:** Requires previous execution of the normalised/filtered histogram cell"
   ]
  },
  {
   "cell_type": "code",
   "execution_count": null,
   "id": "44e0f756",
   "metadata": {},
   "outputs": [],
   "source": [
    "cluster_select = widgets.Dropdown(\n",
    "    options=np.sort(filtered_df[\"cluster\"].cat.codes.unique()),\n",
    "    description=\"Histogram cluster\",\n",
    "    style={\"description_width\": \"initial\"},\n",
    ")\n",
    "\n",
    "og_data_notifier = widgets.Label(\n",
    "    value=\"Original data does not respect clusters.\"\n",
    ")\n",
    "\n",
    "plot_output = widgets.Output()\n",
    "cluster_select.observe(update_histogram, names=\"value\")\n",
    "update_histogram(None, data=filtered_df)\n",
    "\n",
    "# Display\n",
    "widgets.HBox(\n",
    "    [\n",
    "        widgets.VBox([cluster_select, histogram_select, stats_output]),\n",
    "        widgets.VBox([hist_version_select, og_data_notifier]),\n",
    "        plot_output,\n",
    "    ]\n",
    ")"
   ]
  },
  {
   "cell_type": "markdown",
   "id": "4b57fbba-b836-4d1d-98ab-67fc25d1e607",
   "metadata": {},
   "source": [
    "### Select clusters to save as a .csv file\n",
    "\n",
    "E.g. for quantification with BIO-logi-CAL standards (https://doi.org/10.1007/s00216-021-03357-w)"
   ]
  },
  {
   "cell_type": "code",
   "execution_count": null,
   "id": "36f13c60-78e9-4ed5-bc19-1fb3edbceac7",
   "metadata": {
    "tags": []
   },
   "outputs": [],
   "source": [
    "quant_clusters = widgets.SelectMultiple(\n",
    "    options=np.sort(filtered_df[\"cluster\"].cat.codes.unique()),\n",
    "    rows=10,\n",
    "    description=\"Clusters\",\n",
    "    style={\"description_width\": \"initial\"},\n",
    ")\n",
    "\n",
    "export_mode = widgets.RadioButtons(\n",
    "    options=[\"Export as individual files\", \"Export as a single merged file\"],\n",
    "    description=\"Export mode:\",\n",
    "    style={\"description_width\": \"initial\"},\n",
    ")\n",
    "\n",
    "widgets.VBox([quant_clusters, export_mode])"
   ]
  },
  {
   "cell_type": "code",
   "execution_count": null,
   "id": "f5c42cef-6aa8-456d-ab60-bfc1cb80a1ed",
   "metadata": {},
   "outputs": [],
   "source": [
    "# Replace NaNs in ROIs\n",
    "if \"ROI\" in filtered_df.columns:\n",
    "   filtered_df[\"ROI\"] = filtered_df[\"ROI\"].fillna('main/residual population')\n",
    "\n",
    "# Export clusters\n",
    "if export_mode.value == \"Export as individual files\":\n",
    "    # Save clusters as individual files\n",
    "    for c in quant_clusters.value:\n",
    "        cluster_df = filtered_df[filtered_df[\"cluster\"] == c]\n",
    "        cluster_df.to_csv(os.path.join(PATH, \"cluster_\" + str(c) + \".csv\"), index=False)\n",
    "    print(\n",
    "        f\"Exported {len(quant_clusters.value)} individual cluster CSV files to {PATH}\"\n",
    "    )\n",
    "else:\n",
    "    # Save clusters as merged file\n",
    "    selected_clusters = quant_clusters.value\n",
    "    merged_df = filtered_df[filtered_df[\"cluster\"].isin(selected_clusters)]\n",
    "    merged_df.to_csv(os.path.join(PATH, \"selected_clusters_merged.csv\"), index=False)\n",
    "    print(\n",
    "        f\"Exported merged CSV with {len(merged_df)} rows from {len(selected_clusters)} clusters\"\n",
    "    )"
   ]
  },
  {
   "cell_type": "markdown",
   "id": "0987836a",
   "metadata": {},
   "source": [
    "### Hyperlink: Heatmap overlay\n",
    "This is a hyperlink to jump back up to the heatmap overlay visualisation. If clustering was performed one can/should re-execute the cells to visualise cluster distributions.  \n",
    "[Jump to heatmap overlay visualisation](#Plot-a-heatmap-for-the-selected-channel-overlayed-on-a-raw-image)"
   ]
  },
  {
   "cell_type": "markdown",
   "id": "07d5b2b7",
   "metadata": {},
   "source": [
    "### Spatial distance and interactions analysis\n",
    "Below is a basic implementation of the scimap ```spatial_distance``` and ```spatial_interaction``` functions.  \n",
    "For more detail and insturctions on how to fine tune this type of analysis, please refer to the scimap publication or their excellent website and tutorials:\n",
    "> Nirmal et al., (2024). SCIMAP: A Python Toolkit for Integrated Spatial Analysis of Multiplexed Imaging Data. Journal of Open Source Software, 9(97), 6604, https://doi.org/10.21105/joss.06604\n",
    ">\n",
    "> Website: https://scimap.xyz/  \n",
    "Simple Spatial Analysis tutorial: https://scimap.xyz/tutorials/archive/5-Simple_Spatial_Analysis/\n",
    ">  \n",
    "\n",
    "**NOTE**:\n",
    "- The entires 'cluster', 'Location_Center_X' (title can vary) and 'Location_Center_Y' (title can vary) **have to be selected** from the spatial metadata list. Select the 'ROI' entry if you are planning to perform ROI specific spatial analysis.\n",
    "- Set '**Use ROIs**' to 'Yes' to compute the succesive spatial analysis steps for each ROI individually. Results can later be summarized, however, summarized ROI results are **not** the same as computations performed on all data alias with '**Use ROIs**' set to 'No'.\n",
    "- To select only a single ROI for spatial analysis, set '**Choose specific ROI**' selection to 'Yes' and select your ROI of choice.  "
   ]
  },
  {
   "cell_type": "code",
   "execution_count": 21,
   "id": "b6fb3a8f",
   "metadata": {},
   "outputs": [
    {
     "data": {
      "application/vnd.jupyter.widget-view+json": {
       "model_id": "e21a5b0c4b7240328af6273289edf0d2",
       "version_major": 2,
       "version_minor": 0
      },
      "text/plain": [
       "HBox(children=(SelectMultiple(description='Spatial data', layout=Layout(width='auto'), options=('cell_label', …"
      ]
     },
     "metadata": {},
     "output_type": "display_data"
    }
   ],
   "source": [
    "# 'yes'/'no' option mapping\n",
    "yn = lambda v: (v == \"Yes\")\n",
    "\n",
    "# Check for ROI\n",
    "ROI = \"ROI\" in filtered_df.columns\n",
    "\n",
    "# widgets\n",
    "select_spatial_data = widgets.SelectMultiple(\n",
    "    options=filtered_df.columns,\n",
    "    rows=20,\n",
    "    description=\"Spatial data\",\n",
    "    style={\"description_width\": \"initial\"},\n",
    "    layout=widgets.Layout(width=\"auto\"),\n",
    ")\n",
    "\n",
    "select_spatial_meta = widgets.SelectMultiple(\n",
    "    options=filtered_df.columns,\n",
    "    rows=20,\n",
    "    description=\"Spatial metadata\",\n",
    "    style={\"description_width\": \"initial\"},\n",
    "    layout=widgets.Layout(width=\"auto\"),\n",
    ")\n",
    "\n",
    "select_x = widgets.Dropdown(\n",
    "    options=filtered_df.columns,\n",
    "    description=\"X coordinates\",\n",
    "    style={\"description_width\": \"initial\"},\n",
    "    layout=widgets.Layout(width=\"auto\"),\n",
    ")\n",
    "\n",
    "select_y = widgets.Dropdown(\n",
    "    options=filtered_df.columns,\n",
    "    description=\"Y coordinates\",\n",
    "    style={\"description_width\": \"initial\"},\n",
    "    layout=widgets.Layout(width=\"auto\"),\n",
    ")\n",
    "\n",
    "spatial_widgets = [select_spatial_data, select_spatial_meta, widgets.VBox([select_x, select_y])]  \n",
    "\n",
    "if ROI:\n",
    "    # Replace NaNs in ROI\n",
    "    filtered_df[\"ROI\"] = filtered_df[\"ROI\"].fillna('main/residual population')\n",
    "\n",
    "    # ROI widgets\n",
    "    use_ROI = widgets.RadioButtons(\n",
    "    options=[\"Yes\", \"No\"],\n",
    "    value=\"No\",\n",
    "    description=\"Use ROIs\",\n",
    "    style={\"description_width\": \"initial\"},\n",
    "    )\n",
    "    choose_ROI = widgets.RadioButtons(\n",
    "    options=[\"Yes\", \"No\"],\n",
    "    value=\"No\",\n",
    "    description=\"Choose specific ROI\",\n",
    "    style={\"description_width\": \"initial\"},\n",
    "    )\n",
    "    ROI_select = widgets.Select(\n",
    "    options=filtered_df[\"ROI\"].dropna().unique(),\n",
    "    style={\"description_width\": \"initial\"},\n",
    "    layout=widgets.Layout(display=\"none\"),\n",
    "    )\n",
    "    spatial_widgets.append(widgets.VBox([use_ROI, choose_ROI, ROI_select]))\n",
    "\n",
    "    def ROI_select_trigger(change=None):\n",
    "        ROI_select.layout.display = \"inline\" if choose_ROI.value == \"Yes\" else \"none\"\n",
    "\n",
    "    choose_ROI.observe(ROI_select_trigger, names=\"value\")\n",
    "    ROI_select_trigger()\n",
    "\n",
    "\n",
    "# display  \n",
    "display(widgets.HBox(spatial_widgets))"
   ]
  },
  {
   "cell_type": "code",
   "execution_count": 26,
   "id": "fed75b7c",
   "metadata": {},
   "outputs": [
    {
     "name": "stdout",
     "output_type": "stream",
     "text": [
      "Processing Image: imageid\n"
     ]
    }
   ],
   "source": [
    "# Use specific, all or no ROI(s)\n",
    "df_sel = pd.DataFrame()\n",
    "\n",
    "if ROI:\n",
    "    if use_ROI.value == \"No\" and choose_ROI.value == \"No\":\n",
    "        df_sel = filtered_df.copy()\n",
    "        imageid = \"imageid\"\n",
    "    elif use_ROI.value == \"Yes\" and choose_ROI.value == \"No\":\n",
    "        df_sel = filtered_df.copy()\n",
    "        imageid = \"ROI\"\n",
    "    elif use_ROI.value == \"Yes\" and choose_ROI.value == \"Yes\":\n",
    "        df_sel = filtered_df[filtered_df[\"ROI\"] == ROI_select.value]\n",
    "        imageid = ROI_select.value\n",
    "else:\n",
    "    df_sel = filtered_df.copy()\n",
    "    imageid = \"imageid\"\n",
    "\n",
    "# Build AnnData\n",
    "adata = ad.AnnData(\n",
    "    X=df_sel.loc[:, list(select_spatial_data.value)].values,\n",
    "    obs=df_sel.loc[:, list(select_spatial_meta.value)],\n",
    "    var=pd.DataFrame(index=list(select_spatial_data.value)),\n",
    ")\n",
    "\n",
    "# Attach image ID\n",
    "adata.obs[\"imageid\"] = imageid\n",
    "\n",
    "# compute spatial distance\n",
    "adata = sm.tl.spatial_distance(\n",
    "    adata,\n",
    "    x_coordinate=select_x.value,\n",
    "    y_coordinate=select_y.value,\n",
    "    z_coordinate=None,\n",
    "    phenotype=\"cluster\",\n",
    "    label=\"spatial_distance\",\n",
    "    imageid=imageid\n",
    ")"
   ]
  },
  {
   "cell_type": "markdown",
   "id": "9040ef8e",
   "metadata": {},
   "source": [
    "### Spatial distance heatmap\n",
    "\n",
    "**Summarize heatmap**: 'Yes' summarizes clusters of all ROIs; 'No' shows clusters of each ROI individually on the Y-axis (only relevant if '**Use ROIs**' was set to 'Yes' and '**Choose specific ROI**' was set to 'No')."
   ]
  },
  {
   "cell_type": "code",
   "execution_count": 52,
   "id": "2fd1e2e1",
   "metadata": {},
   "outputs": [
    {
     "data": {
      "application/vnd.jupyter.widget-view+json": {
       "model_id": "f533c640d84c473e8a5f90024df60f30",
       "version_major": 2,
       "version_minor": 0
      },
      "text/plain": [
       "VBox(children=(RadioButtons(description='Summarize heatmap', options=('Yes', 'No'), style=DescriptionStyle(des…"
      ]
     },
     "metadata": {},
     "output_type": "display_data"
    }
   ],
   "source": [
    "summarize_heatmap = widgets.RadioButtons(\n",
    "    options=[\"Yes\", \"No\"],\n",
    "    value=\"Yes\",\n",
    "    description=\"Summarize heatmap\",\n",
    "    style={\"description_width\": \"initial\"},\n",
    ")\n",
    "sd_heatmap_output = widgets.Output()\n",
    "\n",
    "def update_sd_heatmap(change=None):\n",
    "    sd_heatmap_output.clear_output(wait=True)\n",
    "    with sd_heatmap_output:\n",
    "        sm.pl.spatial_distance(\n",
    "            adata,\n",
    "            phenotype=\"cluster\",\n",
    "            heatmap_summarize=yn(summarize_heatmap.value),\n",
    "            imageid=imageid,\n",
    "        )\n",
    "\n",
    "summarize_heatmap.observe(update_sd_heatmap, names=\"value\")\n",
    "sd_heatmap_widgets = widgets.VBox([summarize_heatmap, sd_heatmap_output])\n",
    "display(sd_heatmap_widgets)\n",
    "update_sd_heatmap()"
   ]
  },
  {
   "cell_type": "markdown",
   "id": "af9aa2e8",
   "metadata": {},
   "source": [
    "### Spatial distance numeric\n",
    "\n",
    "**Distance from cluster**: Select the cluster that serves as the point of comparison to visualise respective distances of other clusters.  \n",
    "**Summarize numeric plot**: 'Yes' summarizes clusters of all ROIs; 'No' shows clusters of each ROI individually in separate plots (only relevant if '**Use ROIs**' was set to 'Yes' and '**Choose specific ROI**' was set to 'No')."
   ]
  },
  {
   "cell_type": "code",
   "execution_count": 53,
   "id": "bd193709",
   "metadata": {},
   "outputs": [
    {
     "data": {
      "application/vnd.jupyter.widget-view+json": {
       "model_id": "7ca88c51593f410e99171fddb3f1a23e",
       "version_major": 2,
       "version_minor": 0
      },
      "text/plain": [
       "VBox(children=(HBox(children=(RadioButtons(description='Summarize numeric plot', options=('Yes', 'No'), style=…"
      ]
     },
     "metadata": {},
     "output_type": "display_data"
    }
   ],
   "source": [
    "summarize_numeric = widgets.RadioButtons(\n",
    "    options=[\"Yes\", \"No\"],\n",
    "    value=\"Yes\",\n",
    "    description=\"Summarize numeric plot\",\n",
    "    style={\"description_width\": \"initial\"},\n",
    ")\n",
    "distance_cluster = widgets.Dropdown(\n",
    "    options=adata.obs[\"cluster\"].cat.categories.tolist(),\n",
    "    description=\"Distance from cluster:\",\n",
    "    style={\"description_width\": \"initial\"},\n",
    ")\n",
    "sd_numeric_output = widgets.Output()\n",
    "\n",
    "def update_sd_numeric(change=None):\n",
    "    sd_numeric_output.clear_output(wait=True)\n",
    "    with sd_numeric_output:\n",
    "        sm.pl.spatial_distance(\n",
    "            adata,\n",
    "            phenotype=\"cluster\",\n",
    "            method=\"numeric\",\n",
    "            distance_from=distance_cluster.value,\n",
    "            imageid= \"imageid\" if summarize_numeric.value == \"Yes\" else imageid,\n",
    "        )\n",
    "\n",
    "summarize_numeric.observe(update_sd_numeric, names=\"value\")\n",
    "distance_cluster.observe(update_sd_numeric, names=\"value\")\n",
    "sd_heatmap_widgets = widgets.VBox([widgets.HBox([summarize_numeric, distance_cluster]), sd_numeric_output])\n",
    "display(sd_heatmap_widgets)\n",
    "update_sd_numeric()"
   ]
  },
  {
   "cell_type": "markdown",
   "id": "cceece3c",
   "metadata": {},
   "source": [
    "### Spatial interaction computation\n",
    "\n",
    "> This function allows users to compute and visualise how likely celltypes are found next to each another compared to random background\n",
    "\n",
    "**Distance from cluster**: Select the cluster that serves as the point of comparison to visualise respective distances of other clusters.  \n",
    "**summarize**: 'Yes' summarizes clusters of all ROIs; 'No' shows clusters of each ROI individually in separate plots (only relevant if 'Choose specific ROI' was set to 'No').\n",
    "\n",
    "**Method**: 'k-nearest neighbours' identifies **knn** nearest neighbours for every cell; 'radius' identifies neighbours within **radius** pixels of every cell.  \n",
    "**Permutations**: Sets the number of permutations done. Higher numbers are statistically more reliable but take longer to compute (default is 300)."
   ]
  },
  {
   "cell_type": "code",
   "execution_count": 34,
   "id": "f853a899",
   "metadata": {},
   "outputs": [
    {
     "data": {
      "application/vnd.jupyter.widget-view+json": {
       "model_id": "8552bbe95d724d188ff742166143394c",
       "version_major": 2,
       "version_minor": 0
      },
      "text/plain": [
       "VBox(children=(VBox(children=(RadioButtons(description='Method:', options=('knn', 'radius'), style=Description…"
      ]
     },
     "metadata": {},
     "output_type": "display_data"
    }
   ],
   "source": [
    "# Widgets\n",
    "method_select = widgets.RadioButtons(\n",
    "    options=[\"knn\", \"radius\"],\n",
    "    value=\"knn\",\n",
    "    description=\"Method:\",\n",
    "    style={\"description_width\": \"initial\"},\n",
    ")\n",
    "knn_input = widgets.IntText(\n",
    "    value=5,\n",
    "    description=\"k-nearest neighbours (knn):\",\n",
    "    style={\"description_width\": \"initial\"},\n",
    ")\n",
    "permutation_input = widgets.IntText(\n",
    "    value=300,\n",
    "    description=\"Permutations:\",\n",
    "    style={\"description_width\": \"initial\"},\n",
    ")\n",
    "radius_input = widgets.IntText(\n",
    "    value=30,\n",
    "    description=\"Radius:\",\n",
    "    style={\"description_width\": \"initial\"},\n",
    ")\n",
    "run_button = widgets.Button(description=\"Run\", button_style=\"primary\")\n",
    "output = widgets.Output()\n",
    "\n",
    "# Run callback\n",
    "def run_interaction(_):\n",
    "    output.clear_output(wait=True)\n",
    "    with output:\n",
    "        sm.tl.spatial_interaction(\n",
    "            adata,\n",
    "            x_coordinate=select_x.value,\n",
    "            y_coordinate=select_y.value,\n",
    "            phenotype=\"cluster\",\n",
    "            method=method_select.value,\n",
    "            knn=knn_input.value,\n",
    "            permutation=permutation_input.value,\n",
    "            radius=radius_input.value,\n",
    "            label=\"spatial_interaction\",\n",
    "            imageid=imageid\n",
    "        )\n",
    "        print(\"Spatial interactions computed successfully.\")\n",
    "\n",
    "run_button.on_click(run_interaction)\n",
    "\n",
    "# Layout\n",
    "controls_interaction_compute = widgets.VBox([\n",
    "    method_select,\n",
    "    widgets.HBox([permutation_input, knn_input, radius_input]),\n",
    "    run_button,\n",
    "])\n",
    "display(widgets.VBox([controls_interaction_compute, output]))\n"
   ]
  },
  {
   "cell_type": "markdown",
   "id": "9bdf6b2d",
   "metadata": {},
   "source": [
    "### Spatial interaction heatmap\n",
    "\n",
    "**Distance from cluster**: Select the cluster that serves as the point of comparison to visualise respective distances of other clusters.  \n",
    "**Summarize interaction plot**: 'Yes' summarizes clusters of all ROIs; 'No' shows clusters of each ROI individually in separate plots (only relevant if '**Use ROIs**' was set to 'Yes' and '**Choose specific ROI**' was set to 'No').\n",
    "\n",
    "**Method**: 'k-nearest neighbours' identifies **knn** nearest neighbours for every cell; 'radius' identifies neighbours within **radius** pixels of every cell.  \n",
    "**Permutations**: Sets the number of permutations done. Higher numbers are statistically more reliable but take longer to compute (default is 300)."
   ]
  },
  {
   "cell_type": "code",
   "execution_count": 35,
   "id": "3943809e",
   "metadata": {},
   "outputs": [
    {
     "data": {
      "application/vnd.jupyter.widget-view+json": {
       "model_id": "c259871767ef4f2f97a7216aa99df6b1",
       "version_major": 2,
       "version_minor": 0
      },
      "text/plain": [
       "VBox(children=(HBox(children=(RadioButtons(description='Summarize interaction plot:', options=('Yes', 'No'), s…"
      ]
     },
     "metadata": {},
     "output_type": "display_data"
    }
   ],
   "source": [
    "# widgets\n",
    "summarize_interaction = widgets.RadioButtons(\n",
    "    options=[\"Yes\", \"No\"],\n",
    "    value=\"Yes\",\n",
    "    description=\"Summarize interaction plot:\",\n",
    "    style={\"description_width\": \"initial\"},\n",
    ")\n",
    "binary_view_select = widgets.RadioButtons(\n",
    "    options=[\"Yes\", \"No\"],\n",
    "    value=\"No\",\n",
    "    description=\"Binary view:\",\n",
    "    style={\"description_width\": \"initial\"},\n",
    ")\n",
    "row_cluster_select = widgets.RadioButtons(\n",
    "    options=[\"Yes\", \"No\"],\n",
    "    value=\"No\",\n",
    "    description=\"Cluster rows:\",\n",
    "    style={\"description_width\": \"initial\"},\n",
    ")\n",
    "col_cluster_select = widgets.RadioButtons(\n",
    "    options=[\"Yes\", \"No\"],\n",
    "    value=\"No\",\n",
    "    description=\"Cluster columns:\",\n",
    "    style={\"description_width\": \"initial\"},\n",
    ")\n",
    "p_val_input = widgets.FloatText(\n",
    "    value=0.05,\n",
    "    step=0.01,\n",
    "    description=\"p-value:\",\n",
    "    style={\"description_width\": \"initial\"},\n",
    ")\n",
    "\n",
    "# output\n",
    "si_plot_output = widgets.Output()\n",
    "\n",
    "\n",
    "# update function\n",
    "def update_si_plot(change=None):\n",
    "    si_plot_output.clear_output(wait=True)\n",
    "    with si_plot_output:\n",
    "        sm.pl.spatial_interaction(\n",
    "            adata,\n",
    "            summarize_plot=yn(summarize_interaction.value),\n",
    "            p_val=p_val_input.value,\n",
    "            cmap=\"coolwarm\",\n",
    "            nonsig_color=\"lightgrey\",\n",
    "            binary_view=yn(binary_view_select.value),\n",
    "            row_cluster=yn(row_cluster_select.value),\n",
    "            col_cluster=yn(col_cluster_select.value),\n",
    "            linewidths=0.75,\n",
    "            linecolor=\"black\",\n",
    "            yticklabels=True,\n",
    "        )\n",
    "\n",
    "\n",
    "# observer\n",
    "for w in (\n",
    "    summarize_interaction,\n",
    "    binary_view_select,\n",
    "    row_cluster_select,\n",
    "    col_cluster_select,\n",
    "    p_val_input,\n",
    "):\n",
    "    w.observe(update_si_plot, names=\"value\")\n",
    "\n",
    "# display\n",
    "controls_interaction_plot = widgets.HBox(\n",
    "    [\n",
    "        summarize_interaction,\n",
    "        binary_view_select,\n",
    "        row_cluster_select,\n",
    "        col_cluster_select,\n",
    "        p_val_input,\n",
    "    ]\n",
    ")\n",
    "display(widgets.VBox([controls_interaction_plot, si_plot_output]))\n",
    "update_si_plot()"
   ]
  },
  {
   "cell_type": "code",
   "execution_count": null,
   "id": "29882338",
   "metadata": {},
   "outputs": [],
   "source": []
  }
 ],
 "metadata": {
  "kernelspec": {
   "display_name": "Python 3 (ipykernel)",
   "language": "python",
   "name": "python3"
  },
  "language_info": {
   "codemirror_mode": {
    "name": "ipython",
    "version": 3
   },
   "file_extension": ".py",
   "mimetype": "text/x-python",
   "name": "python",
   "nbconvert_exporter": "python",
   "pygments_lexer": "ipython3",
   "version": "3.10.17"
  },
  "toc-autonumbering": false,
  "toc-showcode": false,
  "toc-showmarkdowntxt": false,
  "toc-showtags": true
 },
 "nbformat": 4,
 "nbformat_minor": 5
}
